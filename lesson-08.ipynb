{
 "cells": [
  {
   "cell_type": "markdown",
   "metadata": {},
   "source": [
    "# Lesson 8\n",
    "\n",
    "Let’s practice writing programs\n",
    "where you build “lists of lists”\n",
    "that let you sort items\n",
    "by a number that you attach to each item."
   ]
  },
  {
   "cell_type": "code",
   "execution_count": null,
   "metadata": {},
   "outputs": [],
   "source": [
    "from course_engine import start_lesson\n",
    "start_lesson(8)\n"
   ]
  },
  {
   "cell_type": "markdown",
   "metadata": {},
   "source": [
    "**Exercise 1.** Print out all the state animals,\n",
    "in order from least popular to most popular.\n",
    "Within each level of popularity, use alphabetical order.\n",
    "For each animal,\n",
    "print a line giving (a) the number of states that chose the animal\n",
    "then (b) the name of the animal itself."
   ]
  },
  {
   "cell_type": "code",
   "execution_count": null,
   "metadata": {
    "checks": "",
    "exercise_number": 1,
    "expected": "1 American badger\n1 Bowhead whale\n1 Coyote\n1 Florida panther\n1 Gray fox\n1 Harbor seal\n1 Hawaiian monk seal\n1 Missouri mule\n1 Moose\n1 Nine-banded armadillo\n1 Orca\n1 Raccoon\n1 Randall Lineback\n1 Right whale\n1 Ring-tailed cat\n1 Rocky Mountain elk\n1 Sperm whale\n1 Virginia big-eared bat\n2 Beaver\n2 Bighorn sheep\n2 Gray squirrel\n2 Grizzly bear\n3 Bison\n4 Black bear\n10 White-tailed deer\n"
   },
   "outputs": [],
   "source": [
    "# Exercise 1\n",
    "\n"
   ]
  },
  {
   "cell_type": "markdown",
   "metadata": {},
   "source": [
    "**Exercise 2.** Write a program\n",
    "that prints in alphabetical order\n",
    "all the least popular state animals —\n",
    "the ones that have been each chosen by only one state."
   ]
  },
  {
   "cell_type": "code",
   "execution_count": null,
   "metadata": {
    "checks": "",
    "exercise_number": 2,
    "expected": "American badger\nBowhead whale\nCoyote\nFlorida panther\nGray fox\nHarbor seal\nHawaiian monk seal\nMissouri mule\nMoose\nNine-banded armadillo\nOrca\nRaccoon\nRandall Lineback\nRight whale\nRing-tailed cat\nRocky Mountain elk\nSperm whale\nVirginia big-eared bat\n"
   },
   "outputs": [],
   "source": [
    "# Exercise 2\n",
    "\n"
   ]
  },
  {
   "cell_type": "markdown",
   "metadata": {},
   "source": [
    "**Exercise 3.** Print the state animals in order\n",
    "by the length of their name,\n",
    "with the shortest animal name first and the longest last.\n",
    "(For animal names of the same length,\n",
    "put them in alphabetical order.)"
   ]
  },
  {
   "cell_type": "code",
   "execution_count": null,
   "metadata": {
    "checks": "",
    "exercise_number": 3,
    "expected": "Orca\nBison\nMoose\nBeaver\nCoyote\nRaccoon\nGray fox\nBlack bear\nHarbor seal\nRight whale\nSperm whale\nGrizzly bear\nBighorn sheep\nBowhead whale\nGray squirrel\nMissouri mule\nAmerican badger\nFlorida panther\nRing-tailed cat\nRandall Lineback\nWhite-tailed deer\nHawaiian monk seal\nRocky Mountain elk\nNine-banded armadillo\nVirginia big-eared bat\n"
   },
   "outputs": [],
   "source": [
    "# Exercise 3\n",
    "\n"
   ]
  },
  {
   "cell_type": "markdown",
   "metadata": {},
   "source": [
    "**Exercise 4.** Print the 10 states in the state animals file\n",
    "that have the longest names,\n",
    "with the longest state name last.\n",
    "When there are ties, list them in alphabetical order."
   ]
  },
  {
   "cell_type": "code",
   "execution_count": null,
   "metadata": {
    "checks": "",
    "exercise_number": 4,
    "expected": "Connecticut\nMississippi\nPennsylvania\nRhode Island\nSouth Dakota\nMassachusetts\nNew Hampshire\nWest Virginia\nNorth Carolina\nSouth Carolina\n"
   },
   "outputs": [],
   "source": [
    "# Exercise 4\n",
    "\n"
   ]
  },
  {
   "cell_type": "markdown",
   "metadata": {},
   "source": [
    "**Exercise 5.** Find the 5 animals in the state animals file\n",
    "that have the longest names.\n",
    "Print them in order with the longest last,\n",
    "with each line giving the animal’s state, a dash, and the animal."
   ]
  },
  {
   "cell_type": "code",
   "execution_count": null,
   "metadata": {
    "checks": "",
    "exercise_number": 5,
    "expected": "South Carolina - White-tailed deer\nHawaii - Hawaiian monk seal\nUtah - Rocky Mountain elk\nTexas - Nine-banded armadillo\nVirginia - Virginia big-eared bat\n"
   },
   "outputs": [],
   "source": [
    "# Exercise 5\n",
    "\n"
   ]
  }
 ],
 "metadata": {
  "kernelspec": {
   "display_name": "Python 3",
   "language": "python",
   "name": "python3"
  },
  "language_info": {
   "codemirror_mode": {
    "name": "ipython",
    "version": 3
   },
   "file_extension": ".py",
   "mimetype": "text/x-python",
   "name": "python",
   "nbconvert_exporter": "python",
   "pygments_lexer": "ipython3",
   "version": "3.7.3"
  }
 },
 "nbformat": 4,
 "nbformat_minor": 4
}
