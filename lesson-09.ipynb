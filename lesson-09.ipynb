{
 "cells": [
  {
   "cell_type": "markdown",
   "metadata": {},
   "source": [
    "# Lesson 9\n",
    "\n",
    "Let’s practice the basic skills necessary for screen scraping!"
   ]
  },
  {
   "cell_type": "code",
   "execution_count": 2,
   "metadata": {},
   "outputs": [
    {
     "output_type": "stream",
     "name": "stdout",
     "text": [
      "\u001b[32m┌─────────────────────┐\n│ Welcome to lesson 9 │\n└─────────────────────┘\u001b[0m"
     ]
    }
   ],
   "source": [
    "from course_engine import start_lesson\n",
    "start_lesson(9)\n"
   ]
  },
  {
   "cell_type": "markdown",
   "metadata": {},
   "source": [
    "**Exercise 1.** In your `Data/` directory is an excerpt\n",
    "from the 2020–2021 Bluffton University golf schedule web page.\n",
    "If you want to see the original page, it lives at:\n",
    "\n",
    "<https://blufftonbeavers.com/sports/mgolf/2020-21/schedule>\n",
    "\n",
    "Here is a sample script that visits every line in the file,\n",
    "removes any extra whitespace at the ends,\n",
    "and prints the “repr” of every line:\n",
    "\n",
    "    f = open('Data/golf-excerpt.html')\n",
    "    for line in f:\n",
    "        line = line.strip()\n",
    "        print(repr(line))\n",
    "\n",
    "Let’s start with something simple\n",
    "before diving into string parsing.\n",
    "By modifying this example,\n",
    "create a short program\n",
    "that prints out the number of lines in `Data/golf-excerpt.html`."
   ]
  },
  {
   "cell_type": "code",
   "execution_count": 6,
   "metadata": {
    "checks": "",
    "exercise_number": 1,
    "expected": "274\n"
   },
   "outputs": [
    {
     "output_type": "execute_result",
     "data": {
      "text/plain": [
       "<IPython.core.display.HTML object>"
      ],
      "text/html": "<pre>274\n\n<span class=\"ansi-green-fg\" style=\"color: #4f4\">┌────────────────────────────────────────────┐\n│ </span><span class=\"ansi-green-fg\" style=\"color: #4f4\">✔ Your output looks correct</span><span class=\"ansi-green-fg\" style=\"color: #4f4\">                │\n│                                            │\n│ Good job! You have completed this exercise │\n└────────────────────────────────────────────┘</span>\n</pre>"
     },
     "metadata": {},
     "execution_count": 6
    }
   ],
   "source": [
    "# Exercise 1\n",
    "\n",
    "f = open('Data/golf-excerpt.html')\n",
    "n = 0\n",
    "for line in f:\n",
    "     line = line.strip()\n",
    "     n = n + 1\n",
    "print(n)\n",
    "     "
   ]
  },
  {
   "cell_type": "markdown",
   "metadata": {},
   "source": [
    "**Exercise 2.** Here is a new operator you might not have seen before:\n",
    "you can use “in” to check\n",
    "whether a little string is contained somewhere inside a big string.\n",
    "\n",
    "    for animal in 'Bison', 'Orca', 'Missouri mule':\n",
    "        if 'so' in animal:\n",
    "            print(animal)\n",
    "\n",
    "This prints out both `Bison` and `Missouri mule`\n",
    "because they both have the adjacent letters `so` inside,\n",
    "but skips and does not print `Orca`.\n",
    "\n",
    "Using this new operator,\n",
    "print out all of the lines in `Data/golf-excerpt.html`\n",
    "that have the string `e_teamname` inside."
   ]
  },
  {
   "cell_type": "code",
   "execution_count": 10,
   "metadata": {
    "checks": "",
    "exercise_number": 2,
    "expected": "<span class=\"e_teamname\" title=\"Tiffin University at Mohawk CC\">Tiffin University at Mohawk CC</span>\n<span class=\"e_teamname\" title=\"Lourdes Fall Invitatonal at Legacy GC\">Lourdes Fall Invitatonal at Legacy GC</span>\n<span class=\"e_teamname\" title=\"Irish Hills Intercollegiate at The Grande GC (Jackson, MI)\">Irish Hills Intercollegiate at The Grande GC (Jackson, MI)</span>\n<span class=\"e_teamname e_home\" title=\"Beaver Fall Classic at Bluffton GC\">Beaver Fall Classic at Bluffton GC</span>\n<span class=\"e_teamname e_home\" title=\"Beaver Fall Classic at Hidden Creek GC\">Beaver Fall Classic at Hidden Creek GC</span>\n<span class=\"e_teamname\" title=\"Olivet College Invitational #1 at Forest Akers West (East Lansing, MI)\">Olivet College Invitational #1 at Forest Akers West (East Lansing, MI)</span>\n<span class=\"e_teamname\" title=\"Trine University at Zollner GC\">Trine University at Zollner GC</span>\n<span class=\"e_teamname\" title=\"Kyle Ryman Memorial at Mohawk CC\">Kyle Ryman Memorial at Mohawk CC</span>\n<span class=\"e_teamname\" title=\"Kyle Ryman Memorial at Mohawk CC\">Kyle Ryman Memorial at Mohawk CC</span>\n<span class=\"e_teamname\" title=\"Lourdes Fall Invitatonal at Sylvania CC\">Lourdes Fall Invitatonal at Sylvania CC</span>\n"
   },
   "outputs": [
    {
     "output_type": "execute_result",
     "data": {
      "text/plain": [
       "<IPython.core.display.HTML object>"
      ],
      "text/html": "<pre>&lt;span class=&#34;e_teamname&#34; title=&#34;Tiffin University at Mohawk CC&#34;&gt;Tiffin University at Mohawk CC&lt;/span&gt;<span class=\"ansi-red-bg ansi-bold\" style=\"background-color: #800;font-weight: bold\">\n</span>\n&lt;span class=&#34;e_teamname&#34; title=&#34;Lourdes Fall Invitatonal at Legacy GC&#34;&gt;Lourdes Fall Invitatonal at Legacy GC&lt;/span&gt;<span class=\"ansi-red-bg ansi-bold\" style=\"background-color: #800;font-weight: bold\">\n</span>\n&lt;span class=&#34;e_teamname&#34; title=&#34;Irish Hills Intercollegiate at The Grande GC (Jackson, MI)&#34;&gt;Irish Hills Intercollegiate at The Grande GC (Jackson, MI)&lt;/span&gt;\n<span class=\"ansi-red-bg ansi-bold\" style=\"background-color: #800;font-weight: bold\">\n</span>&lt;span class=&#34;e_teamname e_home&#34; title=&#34;Beaver Fall Classic at Bluffton GC&#34;&gt;Beaver Fall Classic at Bluffton GC&lt;/span&gt;<span class=\"ansi-red-bg ansi-bold\" style=\"background-color: #800;font-weight: bold\">\n</span>\n&lt;span class=&#34;e_teamname e_home&#34; title=&#34;Beaver Fall Classic at Hidden Creek GC&#34;&gt;Beaver Fall Classic at Hidden Creek GC&lt;/span&gt;<span class=\"ansi-red-bg ansi-bold\" style=\"background-color: #800;font-weight: bold\">\n</span>\n&lt;span class=&#34;e_teamname&#34; title=&#34;Olivet College Invitational #1 at Forest Akers West (East Lansing, MI)&#34;&gt;Olivet College Invitational #1 at Forest Akers West (East Lansing, MI)&lt;/span&gt;\n<span class=\"ansi-red-bg ansi-bold\" style=\"background-color: #800;font-weight: bold\">\n</span>&lt;span class=&#34;e_teamname&#34; title=&#34;Trine University at Zollner GC&#34;&gt;Trine University at Zollner GC&lt;/span&gt;<span class=\"ansi-red-bg ansi-bold\" style=\"background-color: #800;font-weight: bold\">\n</span>\n&lt;span class=&#34;e_teamname&#34; title=&#34;Kyle Ryman Memorial at Mohawk CC&#34;&gt;Kyle Ryman Memorial at Mohawk CC&lt;/span&gt;\n<span class=\"ansi-red-bg ansi-bold\" style=\"background-color: #800;font-weight: bold\">\n</span>&lt;span class=&#34;e_teamname&#34; title=&#34;Kyle Ryman Memorial at Mohawk CC&#34;&gt;Kyle Ryman Memorial at Mohawk CC&lt;/span&gt;<span class=\"ansi-red-bg ansi-bold\" style=\"background-color: #800;font-weight: bold\">\n</span>\n&lt;span class=&#34;e_teamname&#34; title=&#34;Lourdes Fall Invitatonal at Sylvania CC&#34;&gt;Lourdes Fall Invitatonal at Sylvania CC&lt;/span&gt;\n<span class=\"ansi-red-bg ansi-bold\" style=\"background-color: #800;font-weight: bold\">\n</span>\n<span class=\"ansi-red-fg\" style=\"color: red\">┌──────────────────────────────────┐\n│ Your output does not quite match │\n│ what the exercise is expecting:  │\n└──────────────────────────────────┘</span>\n&lt;span class=&#34;e_teamname&#34; title=&#34;Tiffin University at Mohawk CC&#34;&gt;Tiffin University at Mohawk CC&lt;/span&gt;\n&lt;span class=&#34;e_teamname&#34; title=&#34;Lourdes Fall Invitatonal at Legacy GC&#34;&gt;Lourdes Fall Invitatonal at Legacy GC&lt;/span&gt;\n&lt;span class=&#34;e_teamname&#34; title=&#34;Irish Hills Intercollegiate at The Grande GC (Jackson, MI)&#34;&gt;Irish Hills Intercollegiate at The Grande GC (Jackson, MI)&lt;/span&gt;\n&lt;span class=&#34;e_teamname e_home&#34; title=&#34;Beaver Fall Classic at Bluffton GC&#34;&gt;Beaver Fall Classic at Bluffton GC&lt;/span&gt;\n&lt;span class=&#34;e_teamname e_home&#34; title=&#34;Beaver Fall Classic at Hidden Creek GC&#34;&gt;Beaver Fall Classic at Hidden Creek GC&lt;/span&gt;\n&lt;span class=&#34;e_teamname&#34; title=&#34;Olivet College Invitational #1 at Forest Akers West (East Lansing, MI)&#34;&gt;Olivet College Invitational #1 at Forest Akers West (East Lansing, MI)&lt;/span&gt;\n&lt;span class=&#34;e_teamname&#34; title=&#34;Trine University at Zollner GC&#34;&gt;Trine University at Zollner GC&lt;/span&gt;\n&lt;span class=&#34;e_teamname&#34; title=&#34;Kyle Ryman Memorial at Mohawk CC&#34;&gt;Kyle Ryman Memorial at Mohawk CC&lt;/span&gt;\n&lt;span class=&#34;e_teamname&#34; title=&#34;Kyle Ryman Memorial at Mohawk CC&#34;&gt;Kyle Ryman Memorial at Mohawk CC&lt;/span&gt;\n&lt;span class=&#34;e_teamname&#34; title=&#34;Lourdes Fall Invitatonal at Sylvania CC&#34;&gt;Lourdes Fall Invitatonal at Sylvania CC&lt;/span&gt;\n\n</pre>"
     },
     "metadata": {},
     "execution_count": 10
    }
   ],
   "source": [
    "# Exercise 2\n",
    "f = open('Data/golf-excerpt.html')\n",
    "for line in f:\n",
    "    if 'e_teamname' in line:\n",
    "        print(line)\n",
    "\n"
   ]
  },
  {
   "cell_type": "markdown",
   "metadata": {},
   "source": [
    "**Exercise 3.** Print out a count of how many lines in `Data/golf-excerpt.html`\n",
    "have the string `e_teamname` inside."
   ]
  },
  {
   "cell_type": "code",
   "execution_count": 15,
   "metadata": {
    "checks": "",
    "exercise_number": 3,
    "expected": "10\n"
   },
   "outputs": [
    {
     "output_type": "execute_result",
     "data": {
      "text/plain": [
       "<IPython.core.display.HTML object>"
      ],
      "text/html": "<pre>10\n\n<span class=\"ansi-green-fg\" style=\"color: #4f4\">┌────────────────────────────────────────────┐\n│ </span><span class=\"ansi-green-fg\" style=\"color: #4f4\">✔ Your output looks correct</span><span class=\"ansi-green-fg\" style=\"color: #4f4\">                │\n│                                            │\n│ Good job! You have completed this exercise │\n└────────────────────────────────────────────┘</span>\n</pre>"
     },
     "metadata": {},
     "execution_count": 15
    }
   ],
   "source": [
    "# Exercise 3\n",
    "f = open('Data/golf-excerpt.html')\n",
    "n = 0\n",
    "for line in f:\n",
    "    if 'e_teamname' in line:\n",
    "        n = n + 1\n",
    "print(n)\n",
    "        \n"
   ]
  },
  {
   "cell_type": "markdown",
   "metadata": {},
   "source": [
    "**Exercise 4.** Here is an example line from the file:\n",
    "\n",
    "    <span class=\"e_teamname\" title=\"Tiffin University at Mohawk CC\">Tiffin University at Mohawk CC</span>\n",
    "\n",
    "Give this string the name `line`,\n",
    "and use a series of `.split()` operations\n",
    "to pull the team name out of the line.\n",
    "Print the team name on a line by itself."
   ]
  },
  {
   "cell_type": "code",
   "execution_count": 22,
   "metadata": {
    "checks": "",
    "exercise_number": 4,
    "expected": "Tiffin University at Mohawk CC\n"
   },
   "outputs": [
    {
     "output_type": "execute_result",
     "data": {
      "text/plain": [
       "<IPython.core.display.HTML object>"
      ],
      "text/html": "<pre><span class=\"ansi-red-bg ansi-bold\" style=\"background-color: #800;font-weight: bold\">[&#39;&lt;spa</span>n <span class=\"ansi-red-bg ansi-bold\" style=\"background-color: #800;font-weight: bold\">cla</span>s<span class=\"ansi-red-bg ansi-bold\" style=\"background-color: #800;font-weight: bold\">s=&#34;e_teamname&#34; t</span>it<span class=\"ansi-red-bg ansi-bold\" style=\"background-color: #800;font-weight: bold\">le=&#34;&#39;,</span> <span class=\"ansi-red-bg ansi-bold\" style=\"background-color: #800;font-weight: bold\">&#39;&#34;&gt;&#39;,</span> <span class=\"ansi-red-bg ansi-bold\" style=\"background-color: #800;font-weight: bold\">&#39;&lt;/sp</span>a<span class=\"ansi-red-bg ansi-bold\" style=\"background-color: #800;font-weight: bold\">n&gt;&#39;]</span>\n\n<span class=\"ansi-red-fg\" style=\"color: red\">┌──────────────────────────────────┐\n│ Your output does not quite match │\n│ what the exercise is expecting:  │\n└──────────────────────────────────┘</span>\n<span class=\"ansi-green-bg ansi-bold\" style=\"background-color: #080;font-weight: bold\">Tiffi</span>n <span class=\"ansi-green-bg ansi-bold\" style=\"background-color: #080;font-weight: bold\">Univer</span>sit<span class=\"ansi-green-bg ansi-bold\" style=\"background-color: #080;font-weight: bold\">y</span> <span class=\"ansi-green-bg ansi-bold\" style=\"background-color: #080;font-weight: bold\">at</span> <span class=\"ansi-green-bg ansi-bold\" style=\"background-color: #080;font-weight: bold\">Moh</span>a<span class=\"ansi-green-bg ansi-bold\" style=\"background-color: #080;font-weight: bold\">wk CC</span>\n\n</pre>"
     },
     "metadata": {},
     "execution_count": 22
    }
   ],
   "source": [
    "# Exercise 4\n",
    "\n",
    "line = '<span class=\"e_teamname\" title=\"Tiffin University at Mohawk CC\">Tiffin University at Mohawk CC</span>'\n",
    "v = line.split('Tiffin University at Mohawk CC')\n",
    "print(v)"
   ]
  },
  {
   "cell_type": "markdown",
   "metadata": {},
   "source": [
    "**Exercise 5.** Finally let’s put all these pieces together.\n",
    "Write a short script that visits every line of the file,\n",
    "and for lines that have the string `e_teamname` somewhere inside,\n",
    "extracts and prints the team.\n",
    "The result should be a list of all the teams mentioned in the file."
   ]
  },
  {
   "cell_type": "code",
   "execution_count": null,
   "metadata": {
    "checks": "",
    "exercise_number": 5,
    "expected": "Tiffin University at Mohawk CC\nLourdes Fall Invitatonal at Legacy GC\nIrish Hills Intercollegiate at The Grande GC (Jackson, MI)\nBeaver Fall Classic at Bluffton GC\nBeaver Fall Classic at Hidden Creek GC\nOlivet College Invitational #1 at Forest Akers West (East Lansing, MI)\nTrine University at Zollner GC\nKyle Ryman Memorial at Mohawk CC\nKyle Ryman Memorial at Mohawk CC\nLourdes Fall Invitatonal at Sylvania CC\n"
   },
   "outputs": [],
   "source": [
    "# Exercise 5\n",
    "\n"
   ]
  }
 ],
 "metadata": {
  "kernelspec": {
   "name": "Python 3.8.0 64-bit",
   "display_name": "Python 3.8.0 64-bit",
   "metadata": {
    "interpreter": {
     "hash": "082e9a3bcad0a290d0001e938aa60b99250c6c2ef33a923c00b70f9826caf4b7"
    }
   }
  },
  "language_info": {
   "codemirror_mode": {
    "name": "ipython",
    "version": 3
   },
   "file_extension": ".py",
   "mimetype": "text/x-python",
   "name": "python",
   "nbconvert_exporter": "python",
   "pygments_lexer": "ipython3",
   "version": "3.8.0-final"
  }
 },
 "nbformat": 4,
 "nbformat_minor": 4
}