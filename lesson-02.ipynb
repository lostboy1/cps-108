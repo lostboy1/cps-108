{
 "cells": [
  {
   "cell_type": "markdown",
   "metadata": {},
   "source": [
    "# Lesson 2\n",
    "\n",
    "Run the following cell to get started!"
   ]
  },
  {
   "cell_type": "code",
   "execution_count": null,
   "metadata": {
    "tags": []
   },
   "outputs": [],
   "source": [
    "from course_engine import start_lesson\n",
    "start_lesson(2)\n"
   ]
  },
  {
   "cell_type": "markdown",
   "metadata": {},
   "source": [
    "**Exercise 1.** To print text from your Python program, call the `print()` function.\n",
    "The value inside the parentheses will be printed to the screen:\n",
    "```\n",
    "print('Welcome to Lesson 2.')\n",
    "```\n",
    "Try printing the string “Hello, world!”"
   ]
  },
  {
   "cell_type": "code",
   "execution_count": null,
   "metadata": {
    "checks": "",
    "exercise_number": 1,
    "expected": "Hello, world!\n"
   },
   "outputs": [],
   "source": [
    "# Exercise 1\n",
    "print('Hello, world!')\n"
   ]
  },
  {
   "cell_type": "markdown",
   "metadata": {},
   "source": [
    "**Exercise 2.** Today’s exercises involve the exciting topic of state animals!\n",
    "Many state legislatures have at some point in their state’s history\n",
    "designated a particular kind of animal\n",
    "as particularly emblematic of their state.\n",
    "\n",
    "To loop over every state and animal in our state animals CSV file,\n",
    "use the following loop.\n",
    "For each line in the file,\n",
    "the `for` loop will run the intended code you place\n",
    "at the `…` symbol below:\n",
    "```\n",
    "import csv\n",
    "for state, animal in csv.reader(open('Data/state-animals.csv')):\n",
    "    …\n",
    "```\n",
    "In the block of code indented beneath the `for` loop,\n",
    "both `state` and `animal` will be defined and ready for use.\n",
    "\n",
    "As your first challenge, try printing all of the states\n",
    "that are listed in the state animals file."
   ]
  },
  {
   "cell_type": "code",
   "execution_count": 3,
   "metadata": {
    "checks": "",
    "exercise_number": 2,
    "expected": "Alabama\nAlaska\nArizona\nArkansas\nCalifornia\nColorado\nConnecticut\nDelaware\nFlorida\nGeorgia\nHawaii\nIllinois\nKansas\nKentucky\nLouisiana\nMaine\nMassachusetts\nMichigan\nMississippi\nMissouri\nMontana\nNebraska\nNevada\nNew Hampshire\nNew Mexico\nNew York\nNorth Carolina\nOhio\nOklahoma\nOregon\nPennsylvania\nRhode Island\nSouth Carolina\nSouth Dakota\nTennessee\nTexas\nUtah\nVermont\nVirginia\nWashington\nWest Virginia\nWisconsin\nWyoming\n",
    "tags": []
   },
   "outputs": [
    {
     "output_type": "stream",
     "name": "stdout",
     "text": "Alabama\nAlaska\nArizona\nArkansas\nCalifornia\nColorado\nConnecticut\nDelaware\nFlorida\nGeorgia\nHawaii\nIllinois\nKansas\nKentucky\nLouisiana\nMaine\nMassachusetts\nMichigan\nMississippi\nMissouri\nMontana\nNebraska\nNevada\nNew Hampshire\nNew Mexico\nNew York\nNorth Carolina\nOhio\nOklahoma\nOregon\nPennsylvania\nRhode Island\nSouth Carolina\nSouth Dakota\nTennessee\nTexas\nUtah\nVermont\nVirginia\nWashington\nWest Virginia\nWisconsin\nWyoming\n"
    }
   ],
   "source": [
    "# Exercise 2\n",
    "import csv\n",
    "for state, animal in csv.reader(open('Data/state-animals.csv')):\n",
    "    print(state)\n",
    "    \n"
   ]
  },
  {
   "cell_type": "markdown",
   "metadata": {},
   "source": [
    "**Exercise 3.** Now print the animals listed in `Data/state-animals.csv`,\n",
    "in the same order they are listed in the file.\n",
    "(You don’t need to try avoiding duplicates.)"
   ]
  },
  {
   "cell_type": "code",
   "execution_count": 1,
   "metadata": {
    "checks": "",
    "exercise_number": 3,
    "expected": "Black bear\nBowhead whale\nRing-tailed cat\nWhite-tailed deer\nGrizzly bear\nBighorn sheep\nSperm whale\nGray fox\nFlorida panther\nWhite-tailed deer\nHawaiian monk seal\nWhite-tailed deer\nBison\nGray squirrel\nBlack bear\nMoose\nRight whale\nWhite-tailed deer\nWhite-tailed deer\nMissouri mule\nGrizzly bear\nWhite-tailed deer\nBighorn sheep\nWhite-tailed deer\nBlack bear\nBeaver\nGray squirrel\nWhite-tailed deer\nBison\nBeaver\nWhite-tailed deer\nHarbor seal\nWhite-tailed deer\nCoyote\nRaccoon\nNine-banded armadillo\nRocky Mountain elk\nRandall Lineback\nVirginia big-eared bat\nOrca\nBlack bear\nAmerican badger\nBison\n",
    "tags": []
   },
   "outputs": [
    {
     "output_type": "stream",
     "name": "stdout",
     "text": "Black bear\nBowhead whale\nRing-tailed cat\nWhite-tailed deer\nGrizzly bear\nBighorn sheep\nSperm whale\nGray fox\nFlorida panther\nWhite-tailed deer\nHawaiian monk seal\nWhite-tailed deer\nBison\nGray squirrel\nBlack bear\nMoose\nRight whale\nWhite-tailed deer\nWhite-tailed deer\nMissouri mule\nGrizzly bear\nWhite-tailed deer\nBighorn sheep\nWhite-tailed deer\nBlack bear\nBeaver\nGray squirrel\nWhite-tailed deer\nBison\nBeaver\nWhite-tailed deer\nHarbor seal\nWhite-tailed deer\nCoyote\nRaccoon\nNine-banded armadillo\nRocky Mountain elk\nRandall Lineback\nVirginia big-eared bat\nOrca\nBlack bear\nAmerican badger\nBison\n"
    }
   ],
   "source": [
    "# Exercise 3\n",
    "import csv\n",
    "for state, animal in csv.reader(open('Data/state-animals.csv')):\n",
    "    print(animal)\n"
   ]
  },
  {
   "cell_type": "markdown",
   "metadata": {},
   "source": [
    "**Exercise 4.** Programmers often need to count how many times a loop runs.\n",
    "An easy way to count is to start with zero\n",
    "then add one each time through the loop:\n",
    "```\n",
    "n = 0\n",
    "for … in …:\n",
    "    n = n + 1\n",
    "print(n)\n",
    "```\n",
    "Compute and print the number of lines in `Data/state-animals.csv`."
   ]
  },
  {
   "cell_type": "code",
   "execution_count": 1,
   "metadata": {
    "checks": "",
    "exercise_number": 4,
    "expected": "43\n",
    "tags": []
   },
   "outputs": [
    {
     "output_type": "stream",
     "name": "stdout",
     "text": "43\n"
    }
   ],
   "source": [
    "# Exercise 4\n",
    "import csv\n",
    "n = 0\n",
    "for state, animal in csv.reader(open('Data/state-animals.csv')):\n",
    "    n = n + 1\n",
    "print(n)\n"
   ]
  },
  {
   "cell_type": "markdown",
   "metadata": {},
   "source": [
    "**Exercise 5.** Python can not only print strings to the screen,\n",
    "but perform many useful operations on them.\n",
    "Here are three tests that Python can perform.\n",
    "In each case,\n",
    "the indented lines that follow the `if` statement\n",
    "will only run if the condition is true:\n",
    "```\n",
    "if string1 == string2: …\n",
    "if string2.startswith('Star Wars'): …\n",
    "if string2.endswith('The Empire Strikes Back'): …\n",
    "```\n",
    "Print the state animal of Texas."
   ]
  },
  {
   "cell_type": "code",
   "execution_count": 10,
   "metadata": {
    "checks": "",
    "exercise_number": 5,
    "expected": "Nine-banded armadillo\n",
    "tags": []
   },
   "outputs": [
    {
     "output_type": "stream",
     "name": "stdout",
     "text": "Nine-banded armadillo\n"
    }
   ],
   "source": [
    "# Exercise 5\n",
    "import csv\n",
    "file = open('Data/state-animals.csv')\n",
    "for state, animal in csv.reader(file):\n",
    "    if state.startswith ('Texas'):\n",
    "        print(animal)\n"
   ]
  },
  {
   "cell_type": "markdown",
   "metadata": {},
   "source": [
    "**Exercise 6.** Print the state animal of Virginia."
   ]
  },
  {
   "cell_type": "code",
   "execution_count": 11,
   "metadata": {
    "checks": "",
    "exercise_number": 6,
    "expected": "Virginia big-eared bat\n",
    "tags": []
   },
   "outputs": [
    {
     "output_type": "stream",
     "name": "stdout",
     "text": "Virginia big-eared bat\n"
    }
   ],
   "source": [
    "# Exercise 6\n",
    "import csv\n",
    "file = open('Data/state-animals.csv')\n",
    "for state, animal in csv.reader(file):\n",
    "    if state.startswith ('Virginia'):\n",
    "        print(animal)\n"
   ]
  },
  {
   "cell_type": "markdown",
   "metadata": {},
   "source": [
    "**Exercise 7.** Print every state whose animal is the “Beaver”."
   ]
  },
  {
   "cell_type": "code",
   "execution_count": 12,
   "metadata": {
    "checks": "",
    "exercise_number": 7,
    "expected": "New York\nOregon\n",
    "tags": []
   },
   "outputs": [
    {
     "output_type": "stream",
     "name": "stdout",
     "text": "New York\nOregon\n"
    }
   ],
   "source": [
    "# Exercise 7\n",
    "import csv\n",
    "file = open('Data/state-animals.csv')\n",
    "for state, animal in csv.reader(file):\n",
    "    if animal == 'Beaver':\n",
    "        print(state)\n"
   ]
  },
  {
   "cell_type": "markdown",
   "metadata": {},
   "source": [
    "**Exercise 8.** Print every animal that is some kind of “seal”."
   ]
  },
  {
   "cell_type": "code",
   "execution_count": 16,
   "metadata": {
    "checks": "",
    "exercise_number": 8,
    "expected": "Hawaiian monk seal\nHarbor seal\n",
    "tags": []
   },
   "outputs": [
    {
     "output_type": "stream",
     "name": "stdout",
     "text": "Hawaiian monk seal\nHarbor seal\n"
    }
   ],
   "source": [
    "# Exercise 8\n",
    "import csv\n",
    "file = open('Data/state-animals.csv')\n",
    "for state, animal in csv.reader(file):\n",
    "    if animal.endswith('seal'):\n",
    "        print(animal)\n"
   ]
  },
  {
   "cell_type": "markdown",
   "metadata": {},
   "source": [
    "**Exercise 9.** Print every animal that is some kind of “whale”."
   ]
  },
  {
   "cell_type": "code",
   "execution_count": 18,
   "metadata": {
    "checks": "",
    "exercise_number": 9,
    "expected": "Bowhead whale\nSperm whale\nRight whale\n",
    "tags": []
   },
   "outputs": [
    {
     "output_type": "stream",
     "name": "stdout",
     "text": "Bowhead whale\nSperm whale\nRight whale\n"
    }
   ],
   "source": [
    "# Exercise 9\n",
    "import csv\n",
    "file = open('Data/state-animals.csv')\n",
    "for state, animal in csv.reader(file):\n",
    "    if animal.endswith('whale'):\n",
    "        print(animal)\n"
   ]
  },
  {
   "cell_type": "markdown",
   "metadata": {},
   "source": [
    "**Exercise 10.** Print every state whose animal is some kind of “bear”."
   ]
  },
  {
   "cell_type": "code",
   "execution_count": 20,
   "metadata": {
    "checks": "",
    "exercise_number": 10,
    "expected": "Alabama\nCalifornia\nLouisiana\nMontana\nNew Mexico\nWest Virginia\n",
    "tags": []
   },
   "outputs": [
    {
     "output_type": "stream",
     "name": "stdout",
     "text": "Alabama\nCalifornia\nLouisiana\nMontana\nNew Mexico\nWest Virginia\n"
    }
   ],
   "source": [
    "# Exercise 10\n",
    "import csv\n",
    "file = open('Data/state-animals.csv')\n",
    "for state, animal in csv.reader(file):\n",
    "    if animal.endswith('bear'):\n",
    "        print(state)\n"
   ]
  },
  {
   "cell_type": "markdown",
   "metadata": {},
   "source": [
    "**Exercise 11.** Print the number of states whose animal is the “Bison”."
   ]
  },
  {
   "cell_type": "code",
   "execution_count": 30,
   "metadata": {
    "checks": "",
    "exercise_number": 11,
    "expected": "3\n",
    "tags": []
   },
   "outputs": [
    {
     "output_type": "stream",
     "name": "stdout",
     "text": "3\n"
    }
   ],
   "source": [
    "# Exercise 11\n",
    "import csv\n",
    "file = open('Data/state-animals.csv')\n",
    "n = 0\n",
    "for state, animal in csv.reader(file):\n",
    "    if animal == 'Bison':\n",
    "        n = n + 1\n",
    "print(n)\n"
   ]
  },
  {
   "cell_type": "markdown",
   "metadata": {},
   "source": [
    "**Exercise 12.** Print the number of states whose animal is the “Black bear”."
   ]
  },
  {
   "cell_type": "code",
   "execution_count": 32,
   "metadata": {
    "checks": "",
    "exercise_number": 12,
    "expected": "4\n",
    "tags": []
   },
   "outputs": [
    {
     "output_type": "stream",
     "name": "stdout",
     "text": "4\n"
    }
   ],
   "source": [
    "# Exercise 12\n",
    "import csv\n",
    "file = open('Data/state-animals.csv')\n",
    "n = 0\n",
    "for state, animal in csv.reader(file):\n",
    "    if animal == 'Black bear':\n",
    "        n = n + 1\n",
    "print(n)\n"
   ]
  },
  {
   "cell_type": "markdown",
   "metadata": {},
   "source": [
    "**Exercise 13.** Print the number of states whose animal is any kind of “bear”."
   ]
  },
  {
   "cell_type": "code",
   "execution_count": 28,
   "metadata": {
    "checks": "",
    "exercise_number": 13,
    "expected": "6\n",
    "tags": []
   },
   "outputs": [
    {
     "output_type": "stream",
     "name": "stdout",
     "text": "6\n"
    }
   ],
   "source": [
    "# Exercise 13\n",
    "import csv\n",
    "file = open('Data/state-animals.csv')\n",
    "n = 0\n",
    "for state, animal in csv.reader(file):\n",
    "    if animal.endswith('bear'):\n",
    "        n = n + 1\n",
    "print(n)\n"
   ]
  },
  {
   "cell_type": "markdown",
   "metadata": {},
   "source": [
    "**Exercise 14.** We will learn one last string operation today!\n",
    "You can compare two strings to learn which would come first in the dictionary —\n",
    "which comes first in alphabetical order.\n",
    "The test `S1 < S2` tells you if `S1` would come first in the dictionary,\n",
    "while `S1 > S2` tells you if `S1` would come later in the dictionary.\n",
    "\n",
    "Using that string operation,\n",
    "try printing the name of the animal that comes first in the alphabet."
   ]
  },
  {
   "cell_type": "code",
   "execution_count": 25,
   "metadata": {
    "checks": "",
    "exercise_number": 14,
    "expected": "American badger\n",
    "tags": []
   },
   "outputs": [
    {
     "output_type": "stream",
     "name": "stdout",
     "text": "American badger\n"
    }
   ],
   "source": [
    "# Exercise 14\n",
    "import csv\n",
    "winner = 'Zzzzzzzzzz'\n",
    "for state, animal in csv.reader(open('Data/state-animals.csv')):\n",
    "    if animal < winner:\n",
    "     winner = animal\n",
    "print(winner)"
   ]
  },
  {
   "cell_type": "markdown",
   "metadata": {},
   "source": [
    "**Exercise 15.** Next try printing the name of the animal that comes last in the alphabet."
   ]
  },
  {
   "cell_type": "code",
   "execution_count": 15,
   "metadata": {
    "checks": "",
    "exercise_number": 15,
    "expected": "White-tailed deer\n",
    "tags": []
   },
   "outputs": [
    {
     "output_type": "stream",
     "name": "stdout",
     "text": "White-tailed deer\n"
    }
   ],
   "source": [
    "# Exercise 15\n",
    "\n"
   ]
  },
  {
   "cell_type": "markdown",
   "metadata": {},
   "source": [
    "**Exercise 16.** Your final challenge!\n",
    "\n",
    "Believe it or not,\n",
    "you now have all the tools you need\n",
    "to run a popularity context between state animals.\n",
    "But the challenge is a very difficult one\n",
    "and you might not find an answer on your first try.\n",
    "\n",
    "Here goes: print the name of the most popular state animal,\n",
    "followed by the names of the states it belongs to!"
   ]
  },
  {
   "cell_type": "code",
   "execution_count": null,
   "metadata": {
    "checks": "",
    "exercise_number": 16,
    "expected": "White-tailed deer\nArkansas\nGeorgia\nIllinois\nMichigan\nMississippi\nNebraska\nNew Hampshire\nOhio\nPennsylvania\nSouth Carolina\n"
   },
   "outputs": [],
   "source": [
    "# Exercise 16\n",
    "import csv\n",
    "f = open('Data/state-animals.csv')\n",
    "for state, animal in csv.reader(f):\n",
    "    n = 0\n",
    "    f2 = open('Data/state-animals.csv')\n",
    "    for state2, animal2 in csv.reader(f2):\n",
    "        if animal2 == animal:\n",
    "            n = n + 1\n",
    "    #print(animal, n\n",
    "    #)\n"
   ]
  }
 ],
 "metadata": {
  "kernelspec": {
   "display_name": "Python 3.8.0 64-bit",
   "language": "python",
   "name": "python_defaultSpec_1598628591339"
  },
  "language_info": {
   "codemirror_mode": {
    "name": "ipython",
    "version": 3
   },
   "file_extension": ".py",
   "mimetype": "text/x-python",
   "name": "python",
   "nbconvert_exporter": "python",
   "pygments_lexer": "ipython3",
   "version": "3.8.0-final"
  }
 },
 "nbformat": 4,
 "nbformat_minor": 4
}