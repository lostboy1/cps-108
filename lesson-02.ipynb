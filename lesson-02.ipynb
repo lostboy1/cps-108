{
 "cells": [
  {
   "cell_type": "markdown",
   "metadata": {},
   "source": [
    "# Lesson 2\n",
    "\n",
    "Run the following cell to get started!"
   ]
  },
  {
   "cell_type": "code",
   "execution_count": null,
   "metadata": {},
   "outputs": [],
   "source": [
    "from course_engine import start_lesson\n",
    "start_lesson(2)\n"
   ]
  },
  {
   "cell_type": "markdown",
   "metadata": {},
   "source": [
    "**Exercise 1.** To print text from your Python program, call the `print()` function.\n",
    "The value inside the parentheses will be printed to the screen:\n",
    "```\n",
    "print('Welcome to Lesson 2.')\n",
    "```\n",
    "Try printing the string “Hello, world!”"
   ]
  },
  {
   "cell_type": "code",
   "execution_count": null,
   "metadata": {
    "checks": "",
    "exercise_number": 1,
    "expected": "Hello, world!\n"
   },
   "outputs": [],
   "source": [
    "# Exercise 1\n",
    "\n"
   ]
  },
  {
   "cell_type": "markdown",
   "metadata": {},
   "source": [
    "**Exercise 2.** Today’s exercises involve the exciting topic of state animals!\n",
    "Many state legislatures have at some point in their state’s history\n",
    "designated a particular kind of animal\n",
    "as particularly emblematic of their state.\n",
    "\n",
    "To loop over every state and animal in our state animals CSV file,\n",
    "use the following loop.\n",
    "For each line in the file,\n",
    "the `for` loop will run the intended code you place\n",
    "at the `…` symbol below:\n",
    "```\n",
    "import csv\n",
    "for state, animal in csv.reader(open('Data/state-animals.csv')):\n",
    "    …\n",
    "```\n",
    "In the block of code indented beneath the `for` loop,\n",
    "both `state` and `animal` will be defined and ready for use.\n",
    "\n",
    "As your first challenge, try printing all of the states\n",
    "that are listed in the state animals file."
   ]
  },
  {
   "cell_type": "code",
   "execution_count": null,
   "metadata": {
    "checks": "",
    "exercise_number": 2,
    "expected": "Alabama\nAlaska\nArizona\nArkansas\nCalifornia\nColorado\nConnecticut\nDelaware\nFlorida\nGeorgia\nHawaii\nIllinois\nKansas\nKentucky\nLouisiana\nMaine\nMassachusetts\nMichigan\nMississippi\nMissouri\nMontana\nNebraska\nNevada\nNew Hampshire\nNew Mexico\nNew York\nNorth Carolina\nOhio\nOklahoma\nOregon\nPennsylvania\nRhode Island\nSouth Carolina\nSouth Dakota\nTennessee\nTexas\nUtah\nVermont\nVirginia\nWashington\nWest Virginia\nWisconsin\nWyoming\n"
   },
   "outputs": [],
   "source": [
    "# Exercise 2\n",
    "\n"
   ]
  },
  {
   "cell_type": "markdown",
   "metadata": {},
   "source": [
    "**Exercise 3.** Now print the animals listed in `Data/state-animals.csv`,\n",
    "in the same order they are listed in the file.\n",
    "(You don’t need to try avoiding duplicates.)"
   ]
  },
  {
   "cell_type": "code",
   "execution_count": null,
   "metadata": {
    "checks": "",
    "exercise_number": 3,
    "expected": "Black bear\nBowhead whale\nRing-tailed cat\nWhite-tailed deer\nGrizzly bear\nBighorn sheep\nSperm whale\nGray fox\nFlorida panther\nWhite-tailed deer\nHawaiian monk seal\nWhite-tailed deer\nBison\nGray squirrel\nBlack bear\nMoose\nRight whale\nWhite-tailed deer\nWhite-tailed deer\nMissouri mule\nGrizzly bear\nWhite-tailed deer\nBighorn sheep\nWhite-tailed deer\nBlack bear\nBeaver\nGray squirrel\nWhite-tailed deer\nBison\nBeaver\nWhite-tailed deer\nHarbor seal\nWhite-tailed deer\nCoyote\nRaccoon\nNine-banded armadillo\nRocky Mountain elk\nRandall Lineback\nVirginia big-eared bat\nOrca\nBlack bear\nAmerican badger\nBison\n"
   },
   "outputs": [],
   "source": [
    "# Exercise 3\n",
    "\n"
   ]
  },
  {
   "cell_type": "markdown",
   "metadata": {},
   "source": [
    "**Exercise 4.** Programmers often need to count how many times a loop runs.\n",
    "An easy way to count is to start with zero\n",
    "then add one each time through the loop:\n",
    "```\n",
    "n = 0\n",
    "for … in …:\n",
    "    n = n + 1\n",
    "print(n)\n",
    "```\n",
    "Compute and print the number of lines in `Data/state-animals.csv`."
   ]
  },
  {
   "cell_type": "code",
   "execution_count": null,
   "metadata": {
    "checks": "",
    "exercise_number": 4,
    "expected": "43\n"
   },
   "outputs": [],
   "source": [
    "# Exercise 4\n",
    "\n"
   ]
  },
  {
   "cell_type": "markdown",
   "metadata": {},
   "source": [
    "**Exercise 5.** Python can not only print strings to the screen,\n",
    "but perform many useful operations on them.\n",
    "Here are three tests that Python can perform.\n",
    "In each case,\n",
    "the indented lines that follow the `if` statement\n",
    "will only run if the condition is true:\n",
    "```\n",
    "if string1 == string2: …\n",
    "if string2.startswith('Star Wars'): …\n",
    "if string2.endswith('The Empire Strikes Back'): …\n",
    "```\n",
    "Print the state animal of Texas."
   ]
  },
  {
   "cell_type": "code",
   "execution_count": null,
   "metadata": {
    "checks": "",
    "exercise_number": 5,
    "expected": "Nine-banded armadillo\n"
   },
   "outputs": [],
   "source": [
    "# Exercise 5\n",
    "\n"
   ]
  },
  {
   "cell_type": "markdown",
   "metadata": {},
   "source": [
    "**Exercise 6.** Print the state animal of Virginia."
   ]
  },
  {
   "cell_type": "code",
   "execution_count": null,
   "metadata": {
    "checks": "",
    "exercise_number": 6,
    "expected": "Virginia big-eared bat\n"
   },
   "outputs": [],
   "source": [
    "# Exercise 6\n",
    "\n"
   ]
  },
  {
   "cell_type": "markdown",
   "metadata": {},
   "source": [
    "**Exercise 7.** Print every state whose animal is the “Beaver”."
   ]
  },
  {
   "cell_type": "code",
   "execution_count": null,
   "metadata": {
    "checks": "",
    "exercise_number": 7,
    "expected": "New York\nOregon\n"
   },
   "outputs": [],
   "source": [
    "# Exercise 7\n",
    "\n"
   ]
  },
  {
   "cell_type": "markdown",
   "metadata": {},
   "source": [
    "**Exercise 8.** Print every animal that is some kind of “seal”."
   ]
  },
  {
   "cell_type": "code",
   "execution_count": null,
   "metadata": {
    "checks": "",
    "exercise_number": 8,
    "expected": "Hawaiian monk seal\nHarbor seal\n"
   },
   "outputs": [],
   "source": [
    "# Exercise 8\n",
    "\n"
   ]
  },
  {
   "cell_type": "markdown",
   "metadata": {},
   "source": [
    "**Exercise 9.** Print every animal that is some kind of “whale”."
   ]
  },
  {
   "cell_type": "code",
   "execution_count": null,
   "metadata": {
    "checks": "",
    "exercise_number": 9,
    "expected": "Bowhead whale\nSperm whale\nRight whale\n"
   },
   "outputs": [],
   "source": [
    "# Exercise 9\n",
    "\n"
   ]
  },
  {
   "cell_type": "markdown",
   "metadata": {},
   "source": [
    "**Exercise 10.** Print every state whose animal is some kind of “bear”."
   ]
  },
  {
   "cell_type": "code",
   "execution_count": null,
   "metadata": {
    "checks": "",
    "exercise_number": 10,
    "expected": "Alabama\nCalifornia\nLouisiana\nMontana\nNew Mexico\nWest Virginia\n"
   },
   "outputs": [],
   "source": [
    "# Exercise 10\n",
    "\n"
   ]
  },
  {
   "cell_type": "markdown",
   "metadata": {},
   "source": [
    "**Exercise 11.** Print the number of states whose animal is the “Bison”."
   ]
  },
  {
   "cell_type": "code",
   "execution_count": null,
   "metadata": {
    "checks": "",
    "exercise_number": 11,
    "expected": "3\n"
   },
   "outputs": [],
   "source": [
    "# Exercise 11\n",
    "\n"
   ]
  },
  {
   "cell_type": "markdown",
   "metadata": {},
   "source": [
    "**Exercise 12.** Print the number of states whose animal is the “Black bear”."
   ]
  },
  {
   "cell_type": "code",
   "execution_count": null,
   "metadata": {
    "checks": "",
    "exercise_number": 12,
    "expected": "4\n"
   },
   "outputs": [],
   "source": [
    "# Exercise 12\n",
    "\n"
   ]
  },
  {
   "cell_type": "markdown",
   "metadata": {},
   "source": [
    "**Exercise 13.** Print the number of states whose animal is any kind of “bear”."
   ]
  },
  {
   "cell_type": "code",
   "execution_count": null,
   "metadata": {
    "checks": "",
    "exercise_number": 13,
    "expected": "6\n"
   },
   "outputs": [],
   "source": [
    "# Exercise 13\n",
    "\n"
   ]
  },
  {
   "cell_type": "markdown",
   "metadata": {},
   "source": [
    "**Exercise 14.** We will learn one last string operation today!\n",
    "You can compare two strings to learn which would come first in the dictionary —\n",
    "which comes first in alphabetical order.\n",
    "The test `S1 < S2` tells you if `S1` would come first in the dictionary,\n",
    "while `S1 > S2` tells you if `S1` would come later in the dictionary.\n",
    "\n",
    "Using that string operation,\n",
    "try printing the name of the animal that comes first in the alphabet."
   ]
  },
  {
   "cell_type": "code",
   "execution_count": null,
   "metadata": {
    "checks": "",
    "exercise_number": 14,
    "expected": "American badger\n"
   },
   "outputs": [],
   "source": [
    "# Exercise 14\n",
    "\n"
   ]
  },
  {
   "cell_type": "markdown",
   "metadata": {},
   "source": [
    "**Exercise 15.** Next try printing the name of the animal that comes last in the alphabet."
   ]
  },
  {
   "cell_type": "code",
   "execution_count": null,
   "metadata": {
    "checks": "",
    "exercise_number": 15,
    "expected": "White-tailed deer\n"
   },
   "outputs": [],
   "source": [
    "# Exercise 15\n",
    "\n"
   ]
  },
  {
   "cell_type": "markdown",
   "metadata": {},
   "source": [
    "**Exercise 16.** Your final challenge!\n",
    "\n",
    "Believe it or not,\n",
    "you now have all the tools you need\n",
    "to run a popularity context between state animals.\n",
    "But the challenge is a very difficult one\n",
    "and you might not find an answer on your first try.\n",
    "\n",
    "Here goes: print the name of the most popular state animal,\n",
    "followed by the names of the states it belongs to!"
   ]
  },
  {
   "cell_type": "code",
   "execution_count": null,
   "metadata": {
    "checks": "",
    "exercise_number": 16,
    "expected": "White-tailed deer\nArkansas\nGeorgia\nIllinois\nMichigan\nMississippi\nNebraska\nNew Hampshire\nOhio\nPennsylvania\nSouth Carolina\n"
   },
   "outputs": [],
   "source": [
    "# Exercise 16\n",
    "\n"
   ]
  }
 ],
 "metadata": {
  "kernelspec": {
   "display_name": "Python 3",
   "language": "python",
   "name": "python3"
  },
  "language_info": {
   "codemirror_mode": {
    "name": "ipython",
    "version": 3
   },
   "file_extension": ".py",
   "mimetype": "text/x-python",
   "name": "python",
   "nbconvert_exporter": "python",
   "pygments_lexer": "ipython3",
   "version": "3.7.3"
  }
 },
 "nbformat": 4,
 "nbformat_minor": 4
}
