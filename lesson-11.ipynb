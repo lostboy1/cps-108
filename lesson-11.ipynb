{
 "cells": [
  {
   "cell_type": "markdown",
   "metadata": {},
   "source": [
    "# Lesson 11\n",
    "\n",
    "Quiz 10 introduced you to Python’s `datetime` module and two of its types:\n",
    "the `date` type and the `timedelta` type.\n",
    "This lesson lets you practice those skills a bit more!\n",
    "You will need four things for this lesson.\n",
    "\n",
    "First, you need to know how to loop over a series of dates.\n",
    "Here are two approaches that we discussed on Wednesday.\n",
    "In both cases they loop over all of the days in the upcoming Spring Semester.\n",
    "This one uses a familiar `for` loop:\n",
    "\n",
    "    from datetime import date, timedelta\n",
    "\n",
    "    start = date(2021, 1, 20)\n",
    "    end = date(2021, 5, 6)\n",
    "\n",
    "    d = start\n",
    "    days = (end - start).days + 1\n",
    "    for i in range(days):\n",
    "        print(d)\n",
    "        d = d + timedelta(1)\n",
    "\n",
    "And this one takes the simpler but less familiar approach\n",
    "of using a `while` loop:\n",
    "\n",
    "    from datetime import date, timedelta\n",
    "\n",
    "    start = date(2021, 1, 20)\n",
    "    end = date(2021, 5, 6)\n",
    "\n",
    "    d = start\n",
    "    while d <= end:\n",
    "        print(d)\n",
    "        d = d + timedelta(1)\n",
    "\n",
    "The second thing you need to know is the range of class dates\n",
    "in Bluffton’s current Fall Semester:\n",
    "\n",
    "2020 August 17 — 2020 November 20\n",
    "\n",
    "Third and fourth, you will want to consult Python’s documentation\n",
    "about the date type, and about the date formatting placeholders:\n",
    "\n",
    "<https://docs.python.org/3/library/datetime.html#date-objects>\n",
    "\n",
    "<https://strftime.org/>\n",
    "\n",
    "Given all of that information,\n",
    "this lesson has you tackle three exercises!"
   ]
  },
  {
   "cell_type": "code",
   "execution_count": null,
   "metadata": {},
   "outputs": [],
   "source": [
    "from course_engine import start_lesson\n",
    "start_lesson(11)\n"
   ]
  },
  {
   "cell_type": "markdown",
   "metadata": {},
   "source": [
    "**Exercise 1.** Loop over all the dates in Bluffton’s Fall Semester 2020,\n",
    "printing only the dates that are Mondays."
   ]
  },
  {
   "cell_type": "code",
   "execution_count": null,
   "metadata": {
    "checks": "",
    "exercise_number": 1,
    "expected": "2020-08-17\n2020-08-24\n2020-08-31\n2020-09-07\n2020-09-14\n2020-09-21\n2020-09-28\n2020-10-05\n2020-10-12\n2020-10-19\n2020-10-26\n2020-11-02\n2020-11-09\n2020-11-16\n"
   },
   "outputs": [],
   "source": [
    "# Exercise 1\n",
    "\n"
   ]
  },
  {
   "cell_type": "markdown",
   "metadata": {},
   "source": [
    "**Exercise 2.** Loop over all the dates in Fall Semester 2020\n",
    "adding up how many are weekdays — are the days Monday through Friday.\n",
    "Print out the total number of weekdays in the semester."
   ]
  },
  {
   "cell_type": "code",
   "execution_count": null,
   "metadata": {
    "checks": "",
    "exercise_number": 2,
    "expected": "70\n"
   },
   "outputs": [],
   "source": [
    "# Exercise 2\n",
    "\n"
   ]
  },
  {
   "cell_type": "markdown",
   "metadata": {},
   "source": [
    "**Exercise 3.** Finally,\n",
    "let’s print out a simple semester calendar!\n",
    "Here is what a similar calendar for Spring Semester 2021 looks like,\n",
    "with each month name followed by the dates in the month\n",
    "that belong to the semester.\n",
    "As usual for a calendar,\n",
    "Sunday is the first column and Saturday is the last:\n",
    "\n",
    "    January\n",
    "             20 21 22 23\n",
    "    24 25 26 27 28 29 30\n",
    "    31\n",
    "\n",
    "    February\n",
    "       01 02 03 04 05 06\n",
    "    07 08 09 10 11 12 13\n",
    "    14 15 16 17 18 19 20\n",
    "    21 22 23 24 25 26 27\n",
    "    28\n",
    "\n",
    "    March\n",
    "       01 02 03 04 05 06\n",
    "    07 08 09 10 11 12 13\n",
    "    14 15 16 17 18 19 20\n",
    "    21 22 23 24 25 26 27\n",
    "    28 29 30 31\n",
    "\n",
    "    April\n",
    "                01 02 03\n",
    "    04 05 06 07 08 09 10\n",
    "    11 12 13 14 15 16 17\n",
    "    18 19 20 21 22 23 24\n",
    "    25 26 27 28 29 30\n",
    "\n",
    "    May\n",
    "                      01\n",
    "    02 03 04 05 06\n",
    "\n",
    "Your task is to write a program\n",
    "to print the same kind of calendar,\n",
    "with the same format,\n",
    "but for this current Fall semester,\n",
    "that runs from 2020 August 17 to 2020 November 20.\n",
    "\n",
    "This is probably the most complicated program you will write all semester —\n",
    "think of it as the closest thing you will get to a final!\n",
    "Take your time, take small steps towards a solution,\n",
    "and feel free to stop if you start getting frustrated\n",
    "and try again the next day."
   ]
  },
  {
   "cell_type": "code",
   "execution_count": null,
   "metadata": {
    "checks": "",
    "exercise_number": 3,
    "expected": "August\n   17 18 19 20 21 22\n23 24 25 26 27 28 29\n30 31\n\nSeptember\n      01 02 03 04 05\n06 07 08 09 10 11 12\n13 14 15 16 17 18 19\n20 21 22 23 24 25 26\n27 28 29 30\n\nOctober\n            01 02 03\n04 05 06 07 08 09 10\n11 12 13 14 15 16 17\n18 19 20 21 22 23 24\n25 26 27 28 29 30 31\n\nNovember\n01 02 03 04 05 06 07\n08 09 10 11 12 13 14\n15 16 17 18 19 20"
   },
   "outputs": [],
   "source": [
    "# Exercise 3\n",
    "\n"
   ]
  }
 ],
 "metadata": {
  "kernelspec": {
   "display_name": "Python 3",
   "language": "python",
   "name": "python3"
  },
  "language_info": {
   "codemirror_mode": {
    "name": "ipython",
    "version": 3
   },
   "file_extension": ".py",
   "mimetype": "text/x-python",
   "name": "python",
   "nbconvert_exporter": "python",
   "pygments_lexer": "ipython3",
   "version": "3.7.3"
  }
 },
 "nbformat": 4,
 "nbformat_minor": 4
}
