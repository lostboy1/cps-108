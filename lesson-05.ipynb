{
 "cells": [
  {
   "cell_type": "markdown",
   "metadata": {},
   "source": [
    "# Lesson 5\n",
    "\n",
    "After several weeks of working with the state animals CSV file,\n",
    "it’s time for us to tackle something bigger.\n",
    "\n",
    "Let’s got to the movies!\n",
    "\n",
    "Run the first cell in the accompanying `downloads.ipynb` notebook\n",
    "to download the large `Data/movie-cast.csv` file\n",
    "that will power our next few lessons.\n",
    "Beware that the download might take a minute or two,\n",
    "so have patience and wait until the notebook tells you `Done!`\n",
    "before proceeding."
   ]
  },
  {
   "cell_type": "code",
   "execution_count": 9,
   "metadata": {
    "tags": []
   },
   "outputs": [
    {
     "output_type": "stream",
     "name": "stdout",
     "text": [
      "\u001b[32m┌─────────────────────┐\n│ Welcome to lesson 5 │\n└─────────────────────┘\u001b[0m"
     ]
    }
   ],
   "source": [
    "from course_engine import start_lesson\n",
    "start_lesson(5)\n"
   ]
  },
  {
   "cell_type": "markdown",
   "metadata": {},
   "source": [
    "**Exercise 1.** Here is the incantation you can use to loop across the file:\n",
    "\n",
    "```\n",
    "import csv\n",
    "f = open('Data/movie-cast.csv')\n",
    "for movie, rank, actor, character in csv.reader(f):\n",
    "    pass\n",
    "```\n",
    "\n",
    "Let’s see how big the file is!\n",
    "Print the number of lines in the file.\n"
   ]
  },
  {
   "cell_type": "code",
   "execution_count": 3,
   "metadata": {
    "checks": "",
    "exercise_number": 1,
    "expected": "2080607\n",
    "tags": []
   },
   "outputs": [
    {
     "output_type": "execute_result",
     "data": {
      "text/plain": "<IPython.core.display.HTML object>",
      "text/html": "<pre>2080607\n\n<span class=\"ansi-green-fg\" style=\"color: #4f4\">┌────────────────────────────────────────────┐\n│ </span><span class=\"ansi-green-fg\" style=\"color: #4f4\">✔ Your output looks correct</span><span class=\"ansi-green-fg\" style=\"color: #4f4\">                │\n│                                            │\n│ Good job! You have completed this exercise │\n└────────────────────────────────────────────┘</span>\n</pre>"
     },
     "metadata": {},
     "execution_count": 3
    }
   ],
   "source": [
    "# Exercise 1\n",
    "import csv\n",
    "f = open('Data/movie-cast.csv')\n",
    "n = 0\n",
    "for movie, rank, actor, character in csv.reader(f):\n",
    "    n = n + 1\n",
    "print(n)\n"
   ]
  },
  {
   "cell_type": "markdown",
   "metadata": {},
   "source": [
    "**Exercise 2.** Each line of the file lists a character that a particular actor\n",
    "played in a particular movie.\n",
    "\n",
    "Print out, in alphabetical order, all the actors\n",
    "in “Sleuth (1972)”."
   ]
  },
  {
   "cell_type": "code",
   "execution_count": 4,
   "metadata": {
    "checks": "",
    "exercise_number": 2,
    "expected": "Alec Cawthorne\nEve (III) Channing\nJohn (II) Matthews\nLaurence Olivier\nMichael Caine\nTeddy Martin\n",
    "tags": []
   },
   "outputs": [
    {
     "output_type": "execute_result",
     "data": {
      "text/plain": "<IPython.core.display.HTML object>",
      "text/html": "<pre>Alec Cawthorne\nEve (III) Channing\nJohn (II) Matthews\nLaurence Olivier\nMichael Caine\nTeddy Martin\n\n<span class=\"ansi-green-fg\" style=\"color: #4f4\">┌────────────────────────────────────────────┐\n│ </span><span class=\"ansi-green-fg\" style=\"color: #4f4\">✔ Your output looks correct</span><span class=\"ansi-green-fg\" style=\"color: #4f4\">                │\n│                                            │\n│ Good job! You have completed this exercise │\n└────────────────────────────────────────────┘</span>\n</pre>"
     },
     "metadata": {},
     "execution_count": 4
    }
   ],
   "source": [
    "# Exercise 2\n",
    "import csv\n",
    "f = open('Data/movie-cast.csv')\n",
    "name = 'Sleuth (1972)'\n",
    "actors = []\n",
    "for movie, rank, actor, character in csv.reader(f):\n",
    "    if movie == name:\n",
    "        actors.append(actor)\n",
    "actors.sort()\n",
    "for actor in actors:\n",
    "    print(actor)\n",
    "        \n"
   ]
  },
  {
   "cell_type": "markdown",
   "metadata": {},
   "source": [
    "**Exercise 3.** Which movie has the longest name? Print its name."
   ]
  },
  {
   "cell_type": "code",
   "execution_count": 5,
   "metadata": {
    "checks": "",
    "exercise_number": 3,
    "expected": "Brigitte, Laura, Ursula, Monica, Raquel, Litz, Florinda, Barbara, Claudia, e Sofia le chiamo tutte... anima mia (1974)\n",
    "tags": []
   },
   "outputs": [
    {
     "output_type": "execute_result",
     "data": {
      "text/plain": "<IPython.core.display.HTML object>",
      "text/html": "<pre>Brigitte, Laura, Ursula, Monica, Raquel, Litz, Florinda, Barbara, Claudia, e Sofia le chiamo tutte... anima mia (1974)\n\n<span class=\"ansi-green-fg\" style=\"color: #4f4\">┌────────────────────────────────────────────┐\n│ </span><span class=\"ansi-green-fg\" style=\"color: #4f4\">✔ Your output looks correct</span><span class=\"ansi-green-fg\" style=\"color: #4f4\">                │\n│                                            │\n│ Good job! You have completed this exercise │\n└────────────────────────────────────────────┘</span>\n</pre>"
     },
     "metadata": {},
     "execution_count": 5
    }
   ],
   "source": [
    "# Exercise 3\n",
    "import csv\n",
    "winner = ''\n",
    "f = open('Data/movie-cast.csv')\n",
    "for movie, rank, actor, character in csv.reader(f):\n",
    "    if len(movie) > len(winner):\n",
    "        winner = movie\n",
    "print(winner)\n"
   ]
  },
  {
   "cell_type": "markdown",
   "metadata": {},
   "source": [
    "**Exercise 4.** Print out, in alphabetical order, the names of all the movies\n",
    "that starred Chadwick Boseman."
   ]
  },
  {
   "cell_type": "code",
   "execution_count": 17,
   "metadata": {
    "checks": "",
    "exercise_number": 4,
    "expected": "42 (2013)\nBlack Panther (2018)\nCaptain America: Civil War (2016)\nDraft Day (2014)\nGet on Up (2014)\nGods of Egypt (2016)\nMessage from the King (2016)\nThe Express (2008)\nThe Kill Hole (2012)\n",
    "tags": []
   },
   "outputs": [
    {
     "output_type": "stream",
     "name": "stdout",
     "text": "42 (2013)\nBlack Panther (2018)\nCaptain America: Civil War (2016)\nDraft Day (2014)\nGet on Up (2014)\nGods of Egypt (2016)\nMessage from the King (2016)\nThe Express (2008)\nThe Kill Hole (2012)\n"
    }
   ],
   "source": [
    "# Exercise 4\n",
    "import csv\n",
    "f = open('Data/movie-cast.csv')\n",
    "name = 'Chadwick Boseman'\n",
    "movies = []\n",
    "for movie, rank, actor, character in csv.reader(f):\n",
    "    if actor == name:\n",
    "        movies.append(movie)\n",
    "movies.sort()\n",
    "for movie in movies:\n",
    "    print(movie)"
   ]
  },
  {
   "cell_type": "markdown",
   "metadata": {},
   "source": [
    "**Exercise 5.** Print out, in alphabetical order, the names of all the characters\n",
    "played by Chadwick Boseman (include duplicates)."
   ]
  },
  {
   "cell_type": "code",
   "execution_count": 18,
   "metadata": {
    "checks": "",
    "exercise_number": 5,
    "expected": "Black Panther/T'Challa\nBlack Panther/T'Challa\nFloyd Little\nJackie Robinson\nJacob King\nJames Brown\nLt. Samuel Drake\nThoth\nVontae Mack\n",
    "tags": []
   },
   "outputs": [
    {
     "output_type": "stream",
     "name": "stdout",
     "text": "Black Panther/T'Challa\nBlack Panther/T'Challa\nFloyd Little\nJackie Robinson\nJacob King\nJames Brown\nLt. Samuel Drake\nThoth\nVontae Mack\n"
    }
   ],
   "source": [
    "# Exercise 5\n",
    "import csv\n",
    "f = open('Data/movie-cast.csv')\n",
    "name = 'Chadwick Boseman'\n",
    "characters = []\n",
    "for movie, rank, actor, character in csv.reader(f):\n",
    "    if actor == name:\n",
    "        characters.append(character)\n",
    "characters.sort()\n",
    "for character in characters:\n",
    "    print(character)\n"
   ]
  },
  {
   "cell_type": "markdown",
   "metadata": {},
   "source": [
    "**Exercise 6.** Print out, in alphabetical order, the names of all the movies\n",
    "that have a character named “James Bond”."
   ]
  },
  {
   "cell_type": "code",
   "execution_count": 19,
   "metadata": {
    "checks": "",
    "exercise_number": 6,
    "expected": "10 Endrathukulla (2015)\nA Fool's Paradise (2013)\nA View to a Kill (1985)\nAshakara (1991)\nBhajarangi (2013)\nCasino Royale (2006)\nDeemonid (2012)\nDiamonds Are Forever (1971)\nDie Another Day (2002)\nDr. No (1962)\nEpic Movie (2007)\nFrom Russia with Love (1963)\nGam gai (2002)\nGoldenEye (1995)\nGoldenrock (1999)\nGoldfinger (1964)\nLi san jiao wei zhen di yu men (1977)\nLicence to Kill (1989)\nLive and Let Die (1973)\nMoonraker (1979)\nNever Say Never Again (1983)\nOctopussy (1983)\nOn Her Majesty's Secret Service (1969)\nOutwitted (II) (1917)\nQuantum of Solace (2008)\nReflection of the Soul (2013)\nSkyfall (2012)\nSpectre (2015)\nThe Living Daylights (1987)\nThe Man with the Golden Gun (1974)\nThe Price of Loyalty (2008)\nThe Spy Who Loved Me (1977)\nThe World Is Not Enough (1999)\nThunderball (1965)\nTomorrow Never Dies (1997)\nYou Only Live Twice (1967)\n",
    "tags": []
   },
   "outputs": [
    {
     "output_type": "stream",
     "name": "stdout",
     "text": "10 Endrathukulla (2015)\nA Fool's Paradise (2013)\nA View to a Kill (1985)\nAshakara (1991)\nBhajarangi (2013)\nCasino Royale (2006)\nDeemonid (2012)\nDiamonds Are Forever (1971)\nDie Another Day (2002)\nDr. No (1962)\nEpic Movie (2007)\nFrom Russia with Love (1963)\nGam gai (2002)\nGoldenEye (1995)\nGoldenrock (1999)\nGoldfinger (1964)\nLi san jiao wei zhen di yu men (1977)\nLicence to Kill (1989)\nLive and Let Die (1973)\nMoonraker (1979)\nNever Say Never Again (1983)\nOctopussy (1983)\nOn Her Majesty's Secret Service (1969)\nOutwitted (II) (1917)\nQuantum of Solace (2008)\nReflection of the Soul (2013)\nSkyfall (2012)\nSpectre (2015)\nThe Living Daylights (1987)\nThe Man with the Golden Gun (1974)\nThe Price of Loyalty (2008)\nThe Spy Who Loved Me (1977)\nThe World Is Not Enough (1999)\nThunderball (1965)\nTomorrow Never Dies (1997)\nYou Only Live Twice (1967)\n"
    }
   ],
   "source": [
    "# Exercise 6\n",
    "import csv\n",
    "f = open('Data/movie-cast.csv')\n",
    "name = 'James Bond'\n",
    "movies = []\n",
    "for movie, rank, actor, character in csv.reader(f):\n",
    "    if character == name:\n",
    "        movies.append(movie)\n",
    "movies.sort()\n",
    "for movie in movies:\n",
    "    print(movie)\n"
   ]
  },
  {
   "cell_type": "markdown",
   "metadata": {},
   "source": [
    "**Exercise 7.** Print out, in alphabetical order, the names of all the characters\n",
    "that Meryl Streep has played."
   ]
  },
  {
   "cell_type": "code",
   "execution_count": 20,
   "metadata": {
    "checks": "",
    "exercise_number": 7,
    "expected": "Altha Carter\nAnna/Sarah Woodruff\nAnne Marie\nAunt Josephine\nBlue Mecha\nBrooke Reynolds\nChief Elder\nClara\nClarissa Vaughan\nCorrine Whitman\nDonna\nDr. Carolyn Ryan\nEleanor Shaw\nEmmeline Pankhurst\nFlorence Foster Jenkins\nFrancesca Johnson\nGail Hartman\nHelen\nJane Adler\nJanine Roth\nJill\nJoanna Kramer\nJoanna Silver\nJulia\nJulia Child\nKaren\nKaren Silkwood\nKaren Traynor\nKate Gulden\nKate Mundy\nKay\nKay Graham\nLee\nLila Ross\nLinda\nLindy\nLisa Metzger\nMargaret Thatcher\nMary Fisher\nMiranda Priestly\nMolly Gilmore\nMrs. Fox\nQueen\nRachel\nRicki\nRoberta Guaspari\nSister Aloysius Beauvier\nSophie\nStage 6\nSusan\nSusan Orlean\nSuzanne Vale\nViolet Weston\nWitch\nYolanda Johnson\n",
    "tags": []
   },
   "outputs": [
    {
     "output_type": "stream",
     "name": "stdout",
     "text": "Altha Carter\nAnna/Sarah Woodruff\nAnne Marie\nAunt Josephine\nBlue Mecha\nBrooke Reynolds\nChief Elder\nClara\nClarissa Vaughan\nCorrine Whitman\nDonna\nDr. Carolyn Ryan\nEleanor Shaw\nEmmeline Pankhurst\nFlorence Foster Jenkins\nFrancesca Johnson\nGail Hartman\nHelen\nJane Adler\nJanine Roth\nJill\nJoanna Kramer\nJoanna Silver\nJulia\nJulia Child\nKaren\nKaren Silkwood\nKaren Traynor\nKate Gulden\nKate Mundy\nKay\nKay Graham\nLee\nLila Ross\nLinda\nLindy\nLisa Metzger\nMargaret Thatcher\nMary Fisher\nMiranda Priestly\nMolly Gilmore\nMrs. Fox\nQueen\nRachel\nRicki\nRoberta Guaspari\nSister Aloysius Beauvier\nSophie\nStage 6\nSusan\nSusan Orlean\nSuzanne Vale\nViolet Weston\nWitch\nYolanda Johnson\n"
    }
   ],
   "source": [
    "# Exercise 7\n",
    "import csv\n",
    "f = open('Data/movie-cast.csv')\n",
    "name = 'Meryl Streep'\n",
    "characters = []\n",
    "for movie, rank, actor, character in csv.reader(f):\n",
    "    if actor == name:\n",
    "        characters.append(character)\n",
    "characters.sort()\n",
    "for character in characters:\n",
    "    print(character)\n"
   ]
  },
  {
   "cell_type": "markdown",
   "metadata": {},
   "source": [
    "**Exercise 8.** Write a program\n",
    "that prints the number of films Judi Dench has been in,\n",
    "then the number of films Meryl Streep has been in,\n",
    "then the name of whichever of those actresses has been in more films."
   ]
  },
  {
   "cell_type": "code",
   "execution_count": 7,
   "metadata": {
    "checks": "",
    "exercise_number": 8,
    "expected": "51\n55\nMeryl Streep\n",
    "tags": []
   },
   "outputs": [
    {
     "output_type": "execute_result",
     "data": {
      "text/plain": "<IPython.core.display.HTML object>",
      "text/html": "<pre>51\n55\nMeryl Streep\n\n<span class=\"ansi-green-fg\" style=\"color: #4f4\">┌────────────────────────────────────────────┐\n│ </span><span class=\"ansi-green-fg\" style=\"color: #4f4\">✔ Your output looks correct</span><span class=\"ansi-green-fg\" style=\"color: #4f4\">                │\n│                                            │\n│ Good job! You have completed this exercise │\n└────────────────────────────────────────────┘</span>\n</pre>"
     },
     "metadata": {},
     "execution_count": 7
    }
   ],
   "source": [
    "# Exercise 8\n",
    "import csv\n",
    "f = open('Data/movie-cast.csv')\n",
    "name = 'Judi Dench'\n",
    "namee = 'Meryl Streep'\n",
    "n = 0\n",
    "m = 0\n",
    "for movie1, rank1, actor1, character1 in csv.reader(f):\n",
    "    if actor1 == name:\n",
    "        n = n + 1\n",
    "print(n)\n",
    "f = open('Data/movie-cast.csv')\n",
    "for movie2, rank2, actor2, character2 in csv.reader(f):\n",
    "    if actor2 == namee:\n",
    "        m = m + 1\n",
    "print(m)\n",
    "if n > m:\n",
    "    print(name)\n",
    "else:\n",
    "    print(namee)\n"
   ]
  },
  {
   "cell_type": "markdown",
   "metadata": {},
   "source": [
    "**Exercise 9.** Of all of the movies that starred Chadwick Boseman,\n",
    "which had the largest cast (and, thus, the most rows in this CSV file)?\n",
    "Print both the name of the movie and the number of cast members."
   ]
  },
  {
   "cell_type": "code",
   "execution_count": 13,
   "metadata": {
    "checks": "",
    "exercise_number": 9,
    "expected": "42 (2013)\n114\n",
    "tags": []
   },
   "outputs": [
    {
     "output_type": "execute_result",
     "data": {
      "text/plain": [
       "<IPython.core.display.HTML object>"
      ],
      "text/html": "<pre>42 (2013)\n114\n\n<span class=\"ansi-green-fg\" style=\"color: #4f4\">┌────────────────────────────────────────────┐\n│ </span><span class=\"ansi-green-fg\" style=\"color: #4f4\">✔ Your output looks correct</span><span class=\"ansi-green-fg\" style=\"color: #4f4\">                │\n│                                            │\n│ Good job! You have completed this exercise │\n└────────────────────────────────────────────┘</span>\n</pre>"
     },
     "metadata": {},
     "execution_count": 13
    }
   ],
   "source": [
    "# Exercise 9\n",
    "import csv\n",
    "f = open('Data/movie-cast.csv')\n",
    "name = 'Chadwick Boseman'\n",
    "max_cast = 0\n",
    "max_cast_movie = ''\n",
    "for movie, rank, actor, character in csv.reader(f):\n",
    "    if actor == name:\n",
    "        cast = 0\n",
    "        f2 = open('Data/movie-cast.csv')\n",
    "        for movie2, rank2, actor2, character2 in csv.reader(f2):\n",
    "            if movie2 == movie:\n",
    "                cast = cast + 1\n",
    "        if cast > max_cast:\n",
    "            max_cast = cast\n",
    "            max_cast_movie = movie\n",
    "print(max_cast_movie)\n",
    "print(max_cast)"
   ]
  },
  {
   "cell_type": "code",
   "execution_count": null,
   "metadata": {},
   "outputs": [],
   "source": []
  }
 ],
 "metadata": {
  "kernelspec": {
   "name": "Python 3.8.0 64-bit",
   "display_name": "Python 3.8.0 64-bit",
   "metadata": {
    "interpreter": {
     "hash": "082e9a3bcad0a290d0001e938aa60b99250c6c2ef33a923c00b70f9826caf4b7"
    }
   }
  },
  "language_info": {
   "codemirror_mode": {
    "name": "ipython",
    "version": 3
   },
   "file_extension": ".py",
   "mimetype": "text/x-python",
   "name": "python",
   "nbconvert_exporter": "python",
   "pygments_lexer": "ipython3",
   "version": "3.8.0-final"
  }
 },
 "nbformat": 4,
 "nbformat_minor": 4
}