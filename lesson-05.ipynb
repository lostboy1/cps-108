{
 "cells": [
  {
   "cell_type": "markdown",
   "metadata": {},
   "source": [
    "# Lesson 5\n",
    "\n",
    "After several weeks of working with the state animals CSV file,\n",
    "it’s time for us to tackle something bigger.\n",
    "\n",
    "Let’s got to the movies!\n",
    "\n",
    "Run the first cell in the accompanying `downloads.ipynb` notebook\n",
    "to download the large `Data/movie-cast.csv` file\n",
    "that will power our next few lessons.\n",
    "Beware that the download might take a minute or two,\n",
    "so have patience and wait until the notebook tells you `Done!`\n",
    "before proceeding."
   ]
  },
  {
   "cell_type": "code",
   "execution_count": null,
   "metadata": {},
   "outputs": [],
   "source": [
    "from course_engine import start_lesson\n",
    "start_lesson(5)\n"
   ]
  },
  {
   "cell_type": "markdown",
   "metadata": {},
   "source": [
    "**Exercise 1.** Here is the incantation you can use to loop across the file:\n",
    "\n",
    "```\n",
    "import csv\n",
    "f = open('Data/movie-cast.csv')\n",
    "for movie, rank, actor, character in csv.reader(f):\n",
    "    pass\n",
    "```\n",
    "\n",
    "Let’s see how big the file is!\n",
    "Print the number of lines in the file.\n"
   ]
  },
  {
   "cell_type": "code",
   "execution_count": null,
   "metadata": {
    "checks": "",
    "exercise_number": 1,
    "expected": "2080607\n"
   },
   "outputs": [],
   "source": [
    "# Exercise 1\n",
    "\n"
   ]
  },
  {
   "cell_type": "markdown",
   "metadata": {},
   "source": [
    "**Exercise 2.** Each line of the file lists a character that a particular actor\n",
    "played in a particular movie.\n",
    "\n",
    "Print out, in alphabetical order, all the actors\n",
    "in “Sleuth (1972)”."
   ]
  },
  {
   "cell_type": "code",
   "execution_count": null,
   "metadata": {
    "checks": "",
    "exercise_number": 2,
    "expected": "Alec Cawthorne\nEve (III) Channing\nJohn (II) Matthews\nLaurence Olivier\nMichael Caine\nTeddy Martin\n"
   },
   "outputs": [],
   "source": [
    "# Exercise 2\n",
    "\n"
   ]
  },
  {
   "cell_type": "markdown",
   "metadata": {},
   "source": [
    "**Exercise 3.** Which movie has the longest name? Print its name."
   ]
  },
  {
   "cell_type": "code",
   "execution_count": null,
   "metadata": {
    "checks": "",
    "exercise_number": 3,
    "expected": "Brigitte, Laura, Ursula, Monica, Raquel, Litz, Florinda, Barbara, Claudia, e Sofia le chiamo tutte... anima mia (1974)\n"
   },
   "outputs": [],
   "source": [
    "# Exercise 3\n",
    "\n"
   ]
  },
  {
   "cell_type": "markdown",
   "metadata": {},
   "source": [
    "**Exercise 4.** Print out, in alphabetical order, the names of all the movies\n",
    "that starred Chadwick Boseman."
   ]
  },
  {
   "cell_type": "code",
   "execution_count": null,
   "metadata": {
    "checks": "",
    "exercise_number": 4,
    "expected": "42 (2013)\nBlack Panther (2018)\nCaptain America: Civil War (2016)\nDraft Day (2014)\nGet on Up (2014)\nGods of Egypt (2016)\nMessage from the King (2016)\nThe Express (2008)\nThe Kill Hole (2012)\n"
   },
   "outputs": [],
   "source": [
    "# Exercise 4\n",
    "\n"
   ]
  },
  {
   "cell_type": "markdown",
   "metadata": {},
   "source": [
    "**Exercise 5.** Print out, in alphabetical order, the names of all the characters\n",
    "played by Chadwick Boseman (include duplicates)."
   ]
  },
  {
   "cell_type": "code",
   "execution_count": null,
   "metadata": {
    "checks": "",
    "exercise_number": 5,
    "expected": "Black Panther/T'Challa\nBlack Panther/T'Challa\nFloyd Little\nJackie Robinson\nJacob King\nJames Brown\nLt. Samuel Drake\nThoth\nVontae Mack\n"
   },
   "outputs": [],
   "source": [
    "# Exercise 5\n",
    "\n"
   ]
  },
  {
   "cell_type": "markdown",
   "metadata": {},
   "source": [
    "**Exercise 6.** Print out, in alphabetical order, the names of all the movies\n",
    "that have a character named “James Bond”."
   ]
  },
  {
   "cell_type": "code",
   "execution_count": null,
   "metadata": {
    "checks": "",
    "exercise_number": 6,
    "expected": "10 Endrathukulla (2015)\nA Fool's Paradise (2013)\nA View to a Kill (1985)\nAshakara (1991)\nBhajarangi (2013)\nCasino Royale (2006)\nDeemonid (2012)\nDiamonds Are Forever (1971)\nDie Another Day (2002)\nDr. No (1962)\nEpic Movie (2007)\nFrom Russia with Love (1963)\nGam gai (2002)\nGoldenEye (1995)\nGoldenrock (1999)\nGoldfinger (1964)\nLi san jiao wei zhen di yu men (1977)\nLicence to Kill (1989)\nLive and Let Die (1973)\nMoonraker (1979)\nNever Say Never Again (1983)\nOctopussy (1983)\nOn Her Majesty's Secret Service (1969)\nOutwitted (II) (1917)\nQuantum of Solace (2008)\nReflection of the Soul (2013)\nSkyfall (2012)\nSpectre (2015)\nThe Living Daylights (1987)\nThe Man with the Golden Gun (1974)\nThe Price of Loyalty (2008)\nThe Spy Who Loved Me (1977)\nThe World Is Not Enough (1999)\nThunderball (1965)\nTomorrow Never Dies (1997)\nYou Only Live Twice (1967)\n"
   },
   "outputs": [],
   "source": [
    "# Exercise 6\n",
    "\n"
   ]
  },
  {
   "cell_type": "markdown",
   "metadata": {},
   "source": [
    "**Exercise 7.** Print out, in alphabetical order, the names of all the characters\n",
    "that Meryl Streep has played."
   ]
  },
  {
   "cell_type": "code",
   "execution_count": null,
   "metadata": {
    "checks": "",
    "exercise_number": 7,
    "expected": "Altha Carter\nAnna/Sarah Woodruff\nAnne Marie\nAunt Josephine\nBlue Mecha\nBrooke Reynolds\nChief Elder\nClara\nClarissa Vaughan\nCorrine Whitman\nDonna\nDr. Carolyn Ryan\nEleanor Shaw\nEmmeline Pankhurst\nFlorence Foster Jenkins\nFrancesca Johnson\nGail Hartman\nHelen\nJane Adler\nJanine Roth\nJill\nJoanna Kramer\nJoanna Silver\nJulia\nJulia Child\nKaren\nKaren Silkwood\nKaren Traynor\nKate Gulden\nKate Mundy\nKay\nKay Graham\nLee\nLila Ross\nLinda\nLindy\nLisa Metzger\nMargaret Thatcher\nMary Fisher\nMiranda Priestly\nMolly Gilmore\nMrs. Fox\nQueen\nRachel\nRicki\nRoberta Guaspari\nSister Aloysius Beauvier\nSophie\nStage 6\nSusan\nSusan Orlean\nSuzanne Vale\nViolet Weston\nWitch\nYolanda Johnson\n"
   },
   "outputs": [],
   "source": [
    "# Exercise 7\n",
    "\n"
   ]
  },
  {
   "cell_type": "markdown",
   "metadata": {},
   "source": [
    "**Exercise 8.** Write a program\n",
    "that prints the number of films Judi Dench has been in,\n",
    "then the number of films Meryl Streep has been in,\n",
    "then the name of whichever of those actresses has been in more films."
   ]
  },
  {
   "cell_type": "code",
   "execution_count": null,
   "metadata": {
    "checks": "",
    "exercise_number": 8,
    "expected": "51\n55\nMeryl Streep\n"
   },
   "outputs": [],
   "source": [
    "# Exercise 8\n",
    "\n"
   ]
  },
  {
   "cell_type": "markdown",
   "metadata": {},
   "source": [
    "**Exercise 9.** Of all of the movies that starred Chadwick Boseman,\n",
    "which had the largest cast (and, thus, the most rows in this CSV file)?\n",
    "Print both the name of the movie and the number of cast members."
   ]
  },
  {
   "cell_type": "code",
   "execution_count": null,
   "metadata": {
    "checks": "",
    "exercise_number": 9,
    "expected": "42 (2013)\n114\n"
   },
   "outputs": [],
   "source": [
    "# Exercise 9\n",
    "\n"
   ]
  }
 ],
 "metadata": {
  "kernelspec": {
   "display_name": "Python 3",
   "language": "python",
   "name": "python3"
  },
  "language_info": {
   "codemirror_mode": {
    "name": "ipython",
    "version": 3
   },
   "file_extension": ".py",
   "mimetype": "text/x-python",
   "name": "python",
   "nbconvert_exporter": "python",
   "pygments_lexer": "ipython3",
   "version": "3.7.3"
  }
 },
 "nbformat": 4,
 "nbformat_minor": 4
}
