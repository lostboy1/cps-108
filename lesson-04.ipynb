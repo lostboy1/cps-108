{
 "cells": [
  {
   "cell_type": "markdown",
   "metadata": {},
   "source": [
    "# Lesson 4\n",
    "\n",
    "Welcome to your introduction to Python lists and sorting!\n",
    "Every time you open this notebook,\n",
    "run this top cell first:"
   ]
  },
  {
   "cell_type": "code",
   "execution_count": null,
   "metadata": {},
   "outputs": [],
   "source": [
    "from course_engine import start_lesson\n",
    "start_lesson(4)\n"
   ]
  },
  {
   "cell_type": "markdown",
   "metadata": {},
   "source": [
    "**Exercise 1.** In the lecture you learned about the powerful and convenient Python “list”.\n",
    "Here are examples of what you can do with it —\n",
    "if you forget what one of these examples does,\n",
    "simply paste it into a Notebook cell:\n",
    "\n",
    "```\n",
    "animals = ['Moose', 'Bison', 'Coyote']\n",
    "print(animals)\n",
    "```\n",
    "\n",
    "```\n",
    "animals = []\n",
    "animals.append('Moose')\n",
    "animals.append('Bison')\n",
    "animals.append('Coyote')\n",
    "print(animals)\n",
    "```\n",
    "\n",
    "```\n",
    "animals = ['Moose', 'Bison', 'Coyote']\n",
    "for animal in animals:\n",
    "    print(animal)\n",
    "```\n",
    "\n",
    "```\n",
    "animals = ['Moose', 'Bison', 'Coyote']\n",
    "animals.sort()\n",
    "print(animals)\n",
    "````\n",
    "\n",
    "Using this exciting new feature,\n",
    "list in alphabetical order\n",
    "all the animals in `Data/state-animals.csv`\n",
    "including duplicates.\n",
    "(So, your output will end with a *lot* of white-tailed deer.\n",
    "Like, an almost unreasonable number.\n",
    "No idea why they are so popular.)"
   ]
  },
  {
   "cell_type": "code",
   "execution_count": 14,
   "metadata": {
    "checks": "",
    "exercise_number": 1,
    "expected": "American badger\nBeaver\nBeaver\nBighorn sheep\nBighorn sheep\nBison\nBison\nBison\nBlack bear\nBlack bear\nBlack bear\nBlack bear\nBowhead whale\nCoyote\nFlorida panther\nGray fox\nGray squirrel\nGray squirrel\nGrizzly bear\nGrizzly bear\nHarbor seal\nHawaiian monk seal\nMissouri mule\nMoose\nNine-banded armadillo\nOrca\nRaccoon\nRandall Lineback\nRight whale\nRing-tailed cat\nRocky Mountain elk\nSperm whale\nVirginia big-eared bat\nWhite-tailed deer\nWhite-tailed deer\nWhite-tailed deer\nWhite-tailed deer\nWhite-tailed deer\nWhite-tailed deer\nWhite-tailed deer\nWhite-tailed deer\nWhite-tailed deer\nWhite-tailed deer\n",
    "tags": []
   },
   "outputs": [
    {
     "output_type": "stream",
     "name": "stdout",
     "text": "American badger\nBeaver\nBeaver\nBighorn sheep\nBighorn sheep\nBison\nBison\nBison\nBlack bear\nBlack bear\nBlack bear\nBlack bear\nBowhead whale\nCoyote\nFlorida panther\nGray fox\nGray squirrel\nGray squirrel\nGrizzly bear\nGrizzly bear\nHarbor seal\nHawaiian monk seal\nMissouri mule\nMoose\nNine-banded armadillo\nOrca\nRaccoon\nRandall Lineback\nRight whale\nRing-tailed cat\nRocky Mountain elk\nSperm whale\nVirginia big-eared bat\nWhite-tailed deer\nWhite-tailed deer\nWhite-tailed deer\nWhite-tailed deer\nWhite-tailed deer\nWhite-tailed deer\nWhite-tailed deer\nWhite-tailed deer\nWhite-tailed deer\nWhite-tailed deer\n"
    }
   ],
   "source": [
    "# Exercise 1\n",
    "import csv\n",
    "file = open('Data/state-animals.csv')\n",
    "animals = []\n",
    "for state, animal in csv.reader(file):\n",
    "    animals.append(animal)\n",
    "animals.sort()\n",
    "for animal in animals:\n",
    "    print(animal)\n"
   ]
  },
  {
   "cell_type": "markdown",
   "metadata": {},
   "source": [
    "**Exercise 2.** Next, write a program that prints\n",
    "in alphabetical order\n",
    "all the animals in `Data/state-animals.csv`\n",
    "that start with “H”."
   ]
  },
  {
   "cell_type": "code",
   "execution_count": 24,
   "metadata": {
    "checks": "",
    "exercise_number": 2,
    "expected": "Harbor seal\nHawaiian monk seal\n",
    "tags": []
   },
   "outputs": [
    {
     "output_type": "stream",
     "name": "stdout",
     "text": "['Harbor seal', 'Hawaiian monk seal']\nHarbor seal\nHawaiian monk seal\n"
    }
   ],
   "source": [
    "# Exercise 2\n",
    "import csv\n",
    "file = open('Data/state-animals.csv')\n",
    "animals = []\n",
    "for state, animal in csv.reader(file):\n",
    "    if animal.startswith ('H'):\n",
    "        animals.append(animal)\n",
    "animals.sort()\n",
    "print(animals)\n",
    "for animal in animals:\n",
    "    if animal.startswith('H'):\n",
    "        print(animal)\n",
    "\n"
   ]
  },
  {
   "cell_type": "markdown",
   "metadata": {},
   "source": [
    "**Exercise 3.** Next, write a program that prints\n",
    "in alphabetical order\n",
    "all the animals in `Data/state-animals.csv`\n",
    "that start with “R”."
   ]
  },
  {
   "cell_type": "code",
   "execution_count": 25,
   "metadata": {
    "checks": "",
    "exercise_number": 3,
    "expected": "Raccoon\nRandall Lineback\nRight whale\nRing-tailed cat\nRocky Mountain elk\n",
    "tags": []
   },
   "outputs": [
    {
     "output_type": "stream",
     "name": "stdout",
     "text": "['Raccoon', 'Randall Lineback', 'Right whale', 'Ring-tailed cat', 'Rocky Mountain elk']\nRaccoon\nRandall Lineback\nRight whale\nRing-tailed cat\nRocky Mountain elk\n"
    }
   ],
   "source": [
    "# Exercise 3\n",
    "import csv\n",
    "file = open('Data/state-animals.csv')\n",
    "animals = []\n",
    "for state, animal in csv.reader(file):\n",
    "    if animal.startswith ('R'):\n",
    "        animals.append(animal)\n",
    "animals.sort()\n",
    "print(animals)\n",
    "for animal in animals:\n",
    "    if animal.startswith('R'):\n",
    "        print(animal)\n"
   ]
  },
  {
   "cell_type": "markdown",
   "metadata": {},
   "source": [
    "**Exercise 4.** Write a program that prints\n",
    "in alphabetical order\n",
    "all the whales in `Data/state-animals.csv`."
   ]
  },
  {
   "cell_type": "code",
   "execution_count": 26,
   "metadata": {
    "checks": "",
    "exercise_number": 4,
    "expected": "Bowhead whale\nRight whale\nSperm whale\n",
    "tags": []
   },
   "outputs": [
    {
     "output_type": "stream",
     "name": "stdout",
     "text": "['Bowhead whale', 'Right whale', 'Sperm whale']\nBowhead whale\nRight whale\nSperm whale\n"
    }
   ],
   "source": [
    "# Exercise 4\n",
    "import csv\n",
    "file = open('Data/state-animals.csv')\n",
    "animals = []\n",
    "for state, animal in csv.reader(file):\n",
    "    if animal.endswith ('whale'):\n",
    "        animals.append(animal)\n",
    "animals.sort()\n",
    "print(animals)\n",
    "for animal in animals:\n",
    "    if animal.endswith('whale'):\n",
    "        print(animal)\n"
   ]
  },
  {
   "cell_type": "markdown",
   "metadata": {},
   "source": [
    "**Exercise 5.** Finally,\n",
    "write a program\n",
    "that prints in alphabetical order\n",
    "all of the animals in `Data/state-animals.csv`\n",
    "printing the name of each animal only once.\n",
    "(So, only one white-tailed deer down at the end of its output!)"
   ]
  },
  {
   "cell_type": "code",
   "execution_count": 37,
   "metadata": {
    "checks": "",
    "exercise_number": 5,
    "expected": "American badger\nBeaver\nBighorn sheep\nBison\nBlack bear\nBowhead whale\nCoyote\nFlorida panther\nGray fox\nGray squirrel\nGrizzly bear\nHarbor seal\nHawaiian monk seal\nMissouri mule\nMoose\nNine-banded armadillo\nOrca\nRaccoon\nRandall Lineback\nRight whale\nRing-tailed cat\nRocky Mountain elk\nSperm whale\nVirginia big-eared bat\nWhite-tailed deer\n",
    "tags": []
   },
   "outputs": [
    {
     "output_type": "stream",
     "name": "stdout",
     "text": "American badger\nBeaver\nBeaver\nBighorn sheep\nBighorn sheep\nBison\nBison\nBison\nBlack bear\nBlack bear\nBlack bear\nBlack bear\nBowhead whale\nCoyote\nFlorida panther\nGray fox\nGray squirrel\nGray squirrel\nGrizzly bear\nGrizzly bear\nHarbor seal\nHawaiian monk seal\nMissouri mule\nMoose\nNine-banded armadillo\nOrca\nRaccoon\nRandall Lineback\nRight whale\nRing-tailed cat\nRocky Mountain elk\nSperm whale\nVirginia big-eared bat\nWhite-tailed deer\nWhite-tailed deer\nWhite-tailed deer\nWhite-tailed deer\nWhite-tailed deer\nWhite-tailed deer\nWhite-tailed deer\nWhite-tailed deer\nWhite-tailed deer\nWhite-tailed deer\n"
    }
   ],
   "source": [
    "# Exercise 5\n",
    "import csv\n",
    "file = open('Data/state-animals.csv')\n",
    "animals = []\n",
    "for state, animal in csv.reader(file):\n",
    "    animals.append(animal)\n",
    "animals.sort()\n",
    "for animal in animals:\n",
    "     print(animal)\n"
   ]
  },
  {
   "cell_type": "code",
   "execution_count": null,
   "metadata": {},
   "outputs": [],
   "source": []
  }
 ],
 "metadata": {
  "kernelspec": {
   "display_name": "Python 3.8.0 64-bit",
   "language": "python",
   "name": "python_defaultSpec_1599491918667"
  },
  "language_info": {
   "codemirror_mode": {
    "name": "ipython",
    "version": 3
   },
   "file_extension": ".py",
   "mimetype": "text/x-python",
   "name": "python",
   "nbconvert_exporter": "python",
   "pygments_lexer": "ipython3",
   "version": "3.8.0-final"
  }
 },
 "nbformat": 4,
 "nbformat_minor": 4
}