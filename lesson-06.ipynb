{
 "cells": [
  {
   "cell_type": "markdown",
   "metadata": {},
   "source": [
    "# Lesson 6\n",
    "\n",
    "Welcome to Lesson 6!"
   ]
  },
  {
   "cell_type": "code",
   "execution_count": null,
   "metadata": {},
   "outputs": [],
   "source": [
    "from course_engine import start_lesson\n",
    "start_lesson(6)\n"
   ]
  },
  {
   "cell_type": "markdown",
   "metadata": {},
   "source": [
    "**Exercise 1.** You have already used one data structure: the Python list.\n",
    "Today you will learn Python’s other most popular data structure.\n",
    "\n",
    "The **dictionary** lets you save a series of values, just like a list.\n",
    "But it also lets you save a label or tag for each value,\n",
    "which it calls the “key” associated with the value.\n",
    "The dictionary uses computer science magic\n",
    "to perform a lightning-fast lookup when you access a value by its key.\n",
    "\n",
    "Let’s practice some basic dictionary maneuvers!\n",
    "You can look up the value associated with a dictionary key\n",
    "by writing the dictionary’s name followed by the key in square brackets.\n",
    "Adjust the value of `key` here so that this script prints “2\":"
   ]
  },
  {
   "cell_type": "code",
   "execution_count": null,
   "metadata": {
    "checks": "demand(\"key == 'two'\", 'You need to select the right key.')",
    "exercise_number": 1,
    "expected": "2\n"
   },
   "outputs": [],
   "source": [
    "# Exercise 1\n",
    "\n",
    "d = {'one': 1, 'two': 2, 'three': 3}\n",
    "key = 'something'\n",
    "print(d[key])"
   ]
  },
  {
   "cell_type": "markdown",
   "metadata": {},
   "source": [
    "**Exercise 2.** Adjust the value of `key` so that this script prints “two”:"
   ]
  },
  {
   "cell_type": "code",
   "execution_count": null,
   "metadata": {
    "checks": "demand(\"key == 2\", 'You need to select the right key.')",
    "exercise_number": 2,
    "expected": "two\n"
   },
   "outputs": [],
   "source": [
    "# Exercise 2\n",
    "\n",
    "d = {1: 'one', 2: 'two', 3: 'three'}\n",
    "key = 'something'\n",
    "print(d[key])"
   ]
  },
  {
   "cell_type": "markdown",
   "metadata": {},
   "source": [
    "**Exercise 3.** Adjust the value of `key` so that this script prints “Moose”:"
   ]
  },
  {
   "cell_type": "code",
   "execution_count": null,
   "metadata": {
    "checks": "demand(\"key == 'Maine'\", 'You need to select the right key.')",
    "exercise_number": 3,
    "expected": "Moose\n"
   },
   "outputs": [],
   "source": [
    "# Exercise 3\n",
    "\n",
    "d = {'Kansas': 'Bison', 'Maine': 'Moose', 'Wyoming': 'Bison'}\n",
    "key = 'something'\n",
    "print(d[key])"
   ]
  },
  {
   "cell_type": "markdown",
   "metadata": {},
   "source": [
    "**Exercise 4.** You can set a dictionary key by writing `d[key] = value`.\n",
    "Using that statement,\n",
    "supplement this dictionary so that it includes the key `'four'`\n",
    "with the value `4`."
   ]
  },
  {
   "cell_type": "code",
   "execution_count": null,
   "metadata": {
    "checks": "demand(\"len(d) == 4\", 'You have not yet added a new key.')",
    "exercise_number": 4,
    "expected": "{'one': 1, 'two': 2, 'three': 3, 'four': 4}\n"
   },
   "outputs": [],
   "source": [
    "# Exercise 4\n",
    "\n",
    "d = {'one': 1, 'two': 2, 'three': 3}\n",
    "# Put code here\n",
    "print(d)"
   ]
  },
  {
   "cell_type": "markdown",
   "metadata": {},
   "source": [
    "**Exercise 5.** The statement `d[key] = value` will also overwrite an existing dictionary key.\n",
    "Edit this dictionary so that the value associated with the key `'three'`\n",
    "is the number `33` instead."
   ]
  },
  {
   "cell_type": "code",
   "execution_count": null,
   "metadata": {
    "checks": "",
    "exercise_number": 5,
    "expected": "{'one': 1, 'two': 2, 'three': 33}\n"
   },
   "outputs": [],
   "source": [
    "# Exercise 5\n",
    "\n",
    "d = {'one': 1, 'two': 2, 'three': 3}\n",
    "# Put code here\n",
    "print(d)"
   ]
  },
  {
   "cell_type": "markdown",
   "metadata": {},
   "source": [
    "**Exercise 6.** Use a `for` loop to visit each line in the `state-animals.csv` file.\n",
    "Looking only at the states whose names start with “O”,\n",
    "build a dictionary whose keys are state names\n",
    "and whose values are their state animals."
   ]
  },
  {
   "cell_type": "code",
   "execution_count": null,
   "metadata": {
    "checks": "",
    "exercise_number": 6,
    "expected": "{'Ohio': 'White-tailed deer', 'Oklahoma': 'Bison', 'Oregon': 'Beaver'}\n"
   },
   "outputs": [],
   "source": [
    "# Exercise 6\n",
    "\n",
    "d = {}\n",
    "# Put “for” loop here\n",
    "print(d)"
   ]
  },
  {
   "cell_type": "markdown",
   "metadata": {},
   "source": [
    "**Exercise 7.** Now let’s learn about using a dictionary to count!\n",
    "Write a `for` loop that visits each animal in the `animals` list.\n",
    "For each animal,\n",
    "add `1` to its count in the `counts` dictionary.\n",
    "When finished,\n",
    "the dictionary will know how many times each animal appeared in the list."
   ]
  },
  {
   "cell_type": "code",
   "execution_count": null,
   "metadata": {
    "checks": "",
    "exercise_number": 7,
    "expected": "{'Bison': 2, 'Moose': 1, 'Orca': 1}\n"
   },
   "outputs": [],
   "source": [
    "# Exercise 7\n",
    "\n",
    "animals = ['Bison', 'Moose', 'Orca', 'Bison']\n",
    "counts = {'Bison': 0, 'Moose': 0, 'Orca': 0}\n",
    "# Put “for” loop here\n",
    "print(counts)"
   ]
  },
  {
   "cell_type": "markdown",
   "metadata": {},
   "source": [
    "**Exercise 8.** The method for counting you just learned\n",
    "obviously only works if you know all the keys ahead of time\n",
    "so you can add them as dictionary keys with values of zero.\n",
    "\n",
    "But what if you won’t know the keys ahead of time?\n",
    "Then you will have to be more careful.\n",
    "Here is how you can build an `if` statement\n",
    "that checks whether a key exists already:\n",
    "```\n",
    "d = {}\n",
    "if 'Bison' in d:\n",
    "   print('The dictionary knows about Bison.')\n",
    "if 'Bison' not in d:\n",
    "   print('The dictionary lacks a Bison key.')\n",
    "```\n",
    "Using an `if` statement to prevent a key error,\n",
    "fill this empty dictionary with counts of how many times\n",
    "each animal appears in the list."
   ]
  },
  {
   "cell_type": "code",
   "execution_count": null,
   "metadata": {
    "checks": "",
    "exercise_number": 8,
    "expected": "{'Bison': 2, 'Moose': 1, 'Orca': 1}\n"
   },
   "outputs": [],
   "source": [
    "# Exercise 8\n",
    "\n",
    "animals = ['Bison', 'Moose', 'Orca', 'Bison']\n",
    "counts = {}\n",
    "# Put “for” loop here\n",
    "print(counts)"
   ]
  },
  {
   "cell_type": "markdown",
   "metadata": {},
   "source": [
    "**Exercise 9.** You can loop over a dictionary using `for key, value in d.items():`.\n",
    "Using that `for` loop plus your normal maneuver for finding a winner,\n",
    "print the animal with the largest count in this dictionary."
   ]
  },
  {
   "cell_type": "code",
   "execution_count": null,
   "metadata": {
    "checks": "",
    "exercise_number": 9,
    "expected": "Bison\n"
   },
   "outputs": [],
   "source": [
    "# Exercise 9\n",
    "\n",
    "counts = {'Bison': 2, 'Moose': 1, 'Orca': 1}\n",
    "# Put your code here."
   ]
  },
  {
   "cell_type": "markdown",
   "metadata": {},
   "source": [
    "**Exercise 10.** You now have all the pieces necessary to perform a popularity contest\n",
    "using a dictionary of counts!\n",
    "Read in the `state-animals.csv` file\n",
    "and print out the most popular animal\n",
    "along with a count of how many states have it as their state animal."
   ]
  },
  {
   "cell_type": "code",
   "execution_count": null,
   "metadata": {
    "checks": "",
    "exercise_number": 10,
    "expected": "White-tailed deer 10\n"
   },
   "outputs": [],
   "source": [
    "# Exercise 10\n",
    "\n"
   ]
  }
 ],
 "metadata": {
  "kernelspec": {
   "display_name": "Python 3",
   "language": "python",
   "name": "python3"
  },
  "language_info": {
   "codemirror_mode": {
    "name": "ipython",
    "version": 3
   },
   "file_extension": ".py",
   "mimetype": "text/x-python",
   "name": "python",
   "nbconvert_exporter": "python",
   "pygments_lexer": "ipython3",
   "version": "3.7.3"
  }
 },
 "nbformat": 4,
 "nbformat_minor": 4
}
