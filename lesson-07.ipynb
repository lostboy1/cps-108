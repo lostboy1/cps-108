{
 "cells": [
  {
   "cell_type": "markdown",
   "metadata": {},
   "source": [
    "# Lesson 7\n",
    "\n",
    "Welcome!\n",
    "This lesson lets you practice some of the maneuvers\n",
    "involving strings and quoting\n",
    "that you learned in class on Wednesday October 14."
   ]
  },
  {
   "cell_type": "code",
   "execution_count": null,
   "metadata": {},
   "outputs": [],
   "source": [
    "from course_engine import start_lesson\n",
    "start_lesson(7)\n"
   ]
  },
  {
   "cell_type": "markdown",
   "metadata": {},
   "source": [
    "**Exercise 1.** Write a simple program\n",
    "that prints this message:\n",
    "\n",
    "`'That sounds like a bit of old Bilbo's rhyming,' said Pippin.`"
   ]
  },
  {
   "cell_type": "code",
   "execution_count": null,
   "metadata": {
    "checks": "",
    "exercise_number": 1,
    "expected": "'That sounds like a bit of old Bilbo's rhyming,' said Pippin.\n"
   },
   "outputs": [],
   "source": [
    "# Exercise 1\n",
    "\n"
   ]
  },
  {
   "cell_type": "markdown",
   "metadata": {},
   "source": [
    "**Exercise 2.** Write a simple program\n",
    "that prints this message:\n",
    "\n",
    "`\"It's a dangerous business, Frodo, going out of your door,\" he used to say.`"
   ]
  },
  {
   "cell_type": "code",
   "execution_count": null,
   "metadata": {
    "checks": "",
    "exercise_number": 2,
    "expected": "\"It's a dangerous business, Frodo, going out of your door,\" he used to say.\n"
   },
   "outputs": [],
   "source": [
    "# Exercise 2\n",
    "\n"
   ]
  },
  {
   "cell_type": "markdown",
   "metadata": {},
   "source": [
    "**Exercise 3.** Write a simple program\n",
    "that prints this message:\n",
    "\n",
    "`I like to surround words with \\backslashes\\.`"
   ]
  },
  {
   "cell_type": "code",
   "execution_count": null,
   "metadata": {
    "checks": "",
    "exercise_number": 3,
    "expected": "I like to surround words with \\backslashes\\.\n"
   },
   "outputs": [],
   "source": [
    "# Exercise 3\n",
    "\n"
   ]
  },
  {
   "cell_type": "markdown",
   "metadata": {},
   "source": [
    "**Exercise 4.** Using a `for` loop over a `range()`,\n",
    "print the numbers 1 through 10\n",
    "with a space after each number\n",
    "(instead of putting each number on its own line)."
   ]
  },
  {
   "cell_type": "code",
   "execution_count": null,
   "metadata": {
    "checks": "",
    "exercise_number": 4,
    "expected": "1 2 3 4 5 6 7 8 9 10 "
   },
   "outputs": [],
   "source": [
    "# Exercise 4\n",
    "\n"
   ]
  },
  {
   "cell_type": "markdown",
   "metadata": {},
   "source": [
    "**Exercise 5.** Now for something more difficult!\n",
    "Using a `for` loop over a `range()`,\n",
    "print the numbers 1 through 10\n",
    "with a space between numbers\n",
    "but a newline at the very end\n",
    "instead of a space."
   ]
  },
  {
   "cell_type": "code",
   "execution_count": null,
   "metadata": {
    "checks": "",
    "exercise_number": 5,
    "expected": "1 2 3 4 5 6 7 8 9 10\n"
   },
   "outputs": [],
   "source": [
    "# Exercise 5\n",
    "\n"
   ]
  },
  {
   "cell_type": "markdown",
   "metadata": {},
   "source": [
    "**Exercise 6.** Finally, let’s draw a simple calendar!\n",
    "Imagine a February that starts on a Monday.\n",
    "Using a `for` loop over the whole range of 28 days,\n",
    "print this calendar:\n",
    "\n",
    "          February\n",
    "     1  2  3  4  5  6  7\n",
    "     8  9 10 11 12 13 14\n",
    "    15 16 17 18 19 20 21\n",
    "    22 23 24 25 26 27 28\n"
   ]
  },
  {
   "cell_type": "code",
   "execution_count": null,
   "metadata": {
    "checks": "",
    "exercise_number": 6,
    "expected": "      February      \n 1  2  3  4  5  6  7\n 8  9 10 11 12 13 14\n15 16 17 18 19 20 21\n22 23 24 25 26 27 28 "
   },
   "outputs": [],
   "source": [
    "# Exercise 6\n",
    "\n"
   ]
  }
 ],
 "metadata": {
  "kernelspec": {
   "display_name": "Python 3",
   "language": "python",
   "name": "python3"
  },
  "language_info": {
   "codemirror_mode": {
    "name": "ipython",
    "version": 3
   },
   "file_extension": ".py",
   "mimetype": "text/x-python",
   "name": "python",
   "nbconvert_exporter": "python",
   "pygments_lexer": "ipython3",
   "version": "3.7.3"
  }
 },
 "nbformat": 4,
 "nbformat_minor": 4
}
