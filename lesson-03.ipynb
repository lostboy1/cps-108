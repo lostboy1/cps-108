{
 "cells": [
  {
   "cell_type": "markdown",
   "metadata": {},
   "source": [
    "# Lesson 3\n",
    "\n",
    "Every time you open this notebook,\n",
    "run this top cell first:"
   ]
  },
  {
   "cell_type": "code",
   "execution_count": null,
   "metadata": {},
   "outputs": [],
   "source": [
    "from course_engine import start_lesson\n",
    "start_lesson(3)\n"
   ]
  },
  {
   "cell_type": "markdown",
   "metadata": {},
   "source": [
    "**Exercise 1.** Let’s practice the skills we learned in Lesson 2.\n",
    "Here’s the pattern we were using\n",
    "to loop over every line in the charming “state animals” file:\n",
    "```\n",
    "import csv\n",
    "file = open('Data/state-animals.csv')\n",
    "for state, animal in csv.reader(file):\n",
    "    print(state, animal)\n",
    "```\n",
    "Write a short program that figures out which state name\n",
    "comes last in the alphabet, and prints it."
   ]
  },
  {
   "cell_type": "code",
   "execution_count": null,
   "metadata": {
    "checks": "",
    "exercise_number": 1,
    "expected": "Wyoming\n"
   },
   "outputs": [],
   "source": [
    "# Exercise 1\n",
    "\n"
   ]
  },
  {
   "cell_type": "markdown",
   "metadata": {},
   "source": [
    "**Exercise 2.** Write a program that figures out which state name\n",
    "comes first in the alphabet, and prints it."
   ]
  },
  {
   "cell_type": "code",
   "execution_count": null,
   "metadata": {
    "checks": "",
    "exercise_number": 2,
    "expected": "Alabama\n"
   },
   "outputs": [],
   "source": [
    "# Exercise 2\n",
    "\n"
   ]
  },
  {
   "cell_type": "markdown",
   "metadata": {},
   "source": [
    "**Exercise 3.** Now let’s go beyond Lesson 2 and learn a new feature!\n",
    "In Python, `len()` returns the length of a string.\n",
    "```\n",
    "len('Alaska')  # returns the number 6\n",
    "```\n",
    "Write a program that prints out the longest animal name."
   ]
  },
  {
   "cell_type": "code",
   "execution_count": null,
   "metadata": {
    "checks": "",
    "exercise_number": 3,
    "expected": "Bison\n"
   },
   "outputs": [],
   "source": [
    "# Exercise 3\n",
    "\n"
   ]
  },
  {
   "cell_type": "markdown",
   "metadata": {},
   "source": [
    "**Exercise 4.** Next,\n",
    "write a program that prints out the shortest animal name."
   ]
  },
  {
   "cell_type": "code",
   "execution_count": null,
   "metadata": {
    "checks": "",
    "exercise_number": 4,
    "expected": "Orca\n"
   },
   "outputs": [],
   "source": [
    "# Exercise 4\n",
    "\n"
   ]
  },
  {
   "cell_type": "markdown",
   "metadata": {},
   "source": [
    "**Exercise 5.** Now let’s try something a little more complicated:\n",
    "write a program that not only prints out the shortest animal name,\n",
    "but then prints out the name of the state it belongs to."
   ]
  },
  {
   "cell_type": "code",
   "execution_count": null,
   "metadata": {
    "checks": "",
    "exercise_number": 5,
    "expected": "Virginia big-eared bat\nVirginia\n"
   },
   "outputs": [],
   "source": [
    "# Exercise 5\n",
    "\n"
   ]
  },
  {
   "cell_type": "markdown",
   "metadata": {},
   "source": [
    "**Exercise 6.** Finally,\n",
    "write a program that prints out two states:\n",
    "first the state with the shortest name,\n",
    "then the state with the longest name."
   ]
  },
  {
   "cell_type": "code",
   "execution_count": null,
   "metadata": {
    "checks": "",
    "exercise_number": 6,
    "expected": "Ohio\nNorth Carolina\n"
   },
   "outputs": [],
   "source": [
    "# Exercise 6\n",
    "\n"
   ]
  }
 ],
 "metadata": {
  "kernelspec": {
   "display_name": "Python 3",
   "language": "python",
   "name": "python3"
  },
  "language_info": {
   "codemirror_mode": {
    "name": "ipython",
    "version": 3
   },
   "file_extension": ".py",
   "mimetype": "text/x-python",
   "name": "python",
   "nbconvert_exporter": "python",
   "pygments_lexer": "ipython3",
   "version": "3.7.3"
  }
 },
 "nbformat": 4,
 "nbformat_minor": 4
}
