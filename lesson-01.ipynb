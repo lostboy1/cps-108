{
 "cells": [
  {
   "cell_type": "markdown",
   "metadata": {},
   "source": [
    "# Lesson 1\n",
    "\n",
    "Congratulations on making it this far!\n",
    "If you have this file open as a Notebook in VS Code,\n",
    "you have overcome several hurdles.\n",
    "\n",
    "* You have launched VS Code on a machine where it is installed.\n",
    "* You have cloned the `2020-cps-108` GitHub repository,\n",
    "  where this lesson lives,\n",
    "  to your `K:` drive.\n",
    "* You have successfully installed\n",
    "  the Python Extension for Visual Studio Code\n",
    "  and it recognized this file as a Notebook.\n",
    "\n",
    "You can create cells in this notebook,\n",
    "type Python code,\n",
    "and then run it to see its output."
   ]
  },
  {
   "cell_type": "code",
   "execution_count": null,
   "metadata": {},
   "outputs": [],
   "source": [
    "from course_engine import start_lesson\n",
    "start_lesson(1)\n"
   ]
  }
 ],
 "metadata": {
  "kernelspec": {
   "display_name": "Python 3",
   "language": "python",
   "name": "python3"
  },
  "language_info": {
   "codemirror_mode": {
    "name": "ipython",
    "version": 3
   },
   "file_extension": ".py",
   "mimetype": "text/x-python",
   "name": "python",
   "nbconvert_exporter": "python",
   "pygments_lexer": "ipython3",
   "version": "3.7.3"
  }
 },
 "nbformat": 4,
 "nbformat_minor": 4
}
