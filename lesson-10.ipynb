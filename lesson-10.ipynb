{
 "cells": [
  {
   "cell_type": "markdown",
   "metadata": {},
   "source": [
    "# Lesson 10\n",
    "\n",
    "In Tuesday night’s Quiz 9,\n",
    "you learned about `ord()`\n",
    "which can tell you what number\n",
    "the computer uses to represent a character.\n",
    "For example, `ord('a')` tells you that the computer\n",
    "writes the number 97 in its memory whenever it wants to remember\n",
    "the letter `a`.\n",
    "\n",
    "In this lesson, we will go in the other direction:\n",
    "from numbers to characters!\n",
    "Use the Python function `chr()` to turn a number back into a character.\n",
    "\n",
    "    >>> chr(97)\n",
    "    'a'"
   ]
  },
  {
   "cell_type": "code",
   "execution_count": 1,
   "metadata": {},
   "outputs": [
    {
     "output_type": "stream",
     "name": "stdout",
     "text": [
      "\u001b[32m┌──────────────────────┐\n│ Welcome to lesson 10 │\n└──────────────────────┘\u001b[0m"
     ]
    }
   ],
   "source": [
    "from course_engine import start_lesson\n",
    "start_lesson(10)\n"
   ]
  },
  {
   "cell_type": "markdown",
   "metadata": {},
   "source": [
    "**Exercise 1.** Using a Python loop,\n",
    "print on a single line\n",
    "all of the characters\n",
    "from lower case `a` to lower case `z`."
   ]
  },
  {
   "cell_type": "code",
   "execution_count": 8,
   "metadata": {
    "checks": "",
    "exercise_number": 1,
    "expected": "abcdefghijklmnopqrstuvwxyz"
   },
   "outputs": [
    {
     "output_type": "execute_result",
     "data": {
      "text/plain": [
       "<IPython.core.display.HTML object>"
      ],
      "text/html": "<pre>abcdefghijklmnopqrstuvwxyz\n<span class=\"ansi-green-fg\" style=\"color: #4f4\">┌────────────────────────────────────────────┐\n│ </span><span class=\"ansi-green-fg\" style=\"color: #4f4\">✔ Your output looks correct</span><span class=\"ansi-green-fg\" style=\"color: #4f4\">                │\n│                                            │\n│ Good job! You have completed this exercise │\n└────────────────────────────────────────────┘</span>\n</pre>"
     },
     "metadata": {},
     "execution_count": 8
    }
   ],
   "source": [
    "# Exercise 1\n",
    "\n",
    "i = ord('a')\n",
    "j = ord('z')\n",
    "for k in range(i, j+1):\n",
    "    print(chr(k), end='')"
   ]
  },
  {
   "cell_type": "markdown",
   "metadata": {},
   "source": [
    "**Exercise 2.** Loop across all the characters\n",
    "between character 32 and character 127.\n",
    "Print on a single line all the characters\n",
    "for which the `.isalpha()` method returns true."
   ]
  },
  {
   "cell_type": "code",
   "execution_count": 10,
   "metadata": {
    "checks": "",
    "exercise_number": 2,
    "expected": "ABCDEFGHIJKLMNOPQRSTUVWXYZabcdefghijklmnopqrstuvwxyz"
   },
   "outputs": [
    {
     "output_type": "execute_result",
     "data": {
      "text/plain": [
       "<IPython.core.display.HTML object>"
      ],
      "text/html": "<pre>ABCDEFGHIJKLMNOPQRSTUVWXYZabcdefghijklmnopqrstuvwxyz\n<span class=\"ansi-green-fg\" style=\"color: #4f4\">┌────────────────────────────────────────────┐\n│ </span><span class=\"ansi-green-fg\" style=\"color: #4f4\">✔ Your output looks correct</span><span class=\"ansi-green-fg\" style=\"color: #4f4\">                │\n│                                            │\n│ Good job! You have completed this exercise │\n└────────────────────────────────────────────┘</span>\n</pre>"
     },
     "metadata": {},
     "execution_count": 10
    }
   ],
   "source": [
    "# Exercise 2\n",
    "\n",
    "for k in range(32, 128):\n",
    "    if chr(k).isalpha():\n",
    "        print(chr(k), end='')"
   ]
  },
  {
   "cell_type": "markdown",
   "metadata": {},
   "source": [
    "**Exercise 3.** Loop across all the characters\n",
    "between character 32 and character 127.\n",
    "Print on a single line all the characters\n",
    "for which the `.isupper()` method returns true."
   ]
  },
  {
   "cell_type": "code",
   "execution_count": 11,
   "metadata": {
    "checks": "",
    "exercise_number": 3,
    "expected": "ABCDEFGHIJKLMNOPQRSTUVWXYZ"
   },
   "outputs": [
    {
     "output_type": "execute_result",
     "data": {
      "text/plain": [
       "<IPython.core.display.HTML object>"
      ],
      "text/html": "<pre>ABCDEFGHIJKLMNOPQRSTUVWXYZ\n<span class=\"ansi-green-fg\" style=\"color: #4f4\">┌────────────────────────────────────────────┐\n│ </span><span class=\"ansi-green-fg\" style=\"color: #4f4\">✔ Your output looks correct</span><span class=\"ansi-green-fg\" style=\"color: #4f4\">                │\n│                                            │\n│ Good job! You have completed this exercise │\n└────────────────────────────────────────────┘</span>\n</pre>"
     },
     "metadata": {},
     "execution_count": 11
    }
   ],
   "source": [
    "# Exercise 3\n",
    "for k in range(32, 128):\n",
    "    if chr(k).isupper():\n",
    "        print(chr(k), end='')"
   ]
  },
  {
   "cell_type": "markdown",
   "metadata": {},
   "source": [
    "**Exercise 4.** Loop across all the characters\n",
    "between character 32 and character 127.\n",
    "Print on a single line all the characters\n",
    "for which the `.isdigit()` method returns true."
   ]
  },
  {
   "cell_type": "code",
   "execution_count": 12,
   "metadata": {
    "checks": "",
    "exercise_number": 4,
    "expected": "0123456789"
   },
   "outputs": [
    {
     "output_type": "execute_result",
     "data": {
      "text/plain": [
       "<IPython.core.display.HTML object>"
      ],
      "text/html": "<pre>0123456789\n<span class=\"ansi-green-fg\" style=\"color: #4f4\">┌────────────────────────────────────────────┐\n│ </span><span class=\"ansi-green-fg\" style=\"color: #4f4\">✔ Your output looks correct</span><span class=\"ansi-green-fg\" style=\"color: #4f4\">                │\n│                                            │\n│ Good job! You have completed this exercise │\n└────────────────────────────────────────────┘</span>\n</pre>"
     },
     "metadata": {},
     "execution_count": 12
    }
   ],
   "source": [
    "# Exercise 4\n",
    "\n",
    "for k in range(32, 128):\n",
    "    if chr(k).isdigit():\n",
    "        print(chr(k), end='')"
   ]
  },
  {
   "cell_type": "markdown",
   "metadata": {},
   "source": [
    "**Exercise 5.** Let’s print a complete chart of the printable ASCII characters!\n",
    "Print all the characters between 32 and 127,\n",
    "on three lines of 32 characters."
   ]
  },
  {
   "cell_type": "code",
   "execution_count": 15,
   "metadata": {
    "checks": "",
    "exercise_number": 5,
    "expected": " !\"#$%&'()*+,-./0123456789:;<=>?\n@ABCDEFGHIJKLMNOPQRSTUVWXYZ[\\]^_\n`abcdefghijklmnopqrstuvwxyz{|}~\n"
   },
   "outputs": [
    {
     "output_type": "execute_result",
     "data": {
      "text/plain": [
       "<IPython.core.display.HTML object>"
      ],
      "text/html": "<pre> !&#34;#$%&amp;&#39;()*+,-./0123456789:;&lt;=&gt;?\n@ABCDEFGHIJKLMNOPQRSTUVWXYZ[\\]^_\n`abcdefghijklmnopqrstuvwxyz{|}~\n\n<span class=\"ansi-green-fg\" style=\"color: #4f4\">┌────────────────────────────────────────────┐\n│ </span><span class=\"ansi-green-fg\" style=\"color: #4f4\">✔ Your output looks correct</span><span class=\"ansi-green-fg\" style=\"color: #4f4\">                │\n│                                            │\n│ Good job! You have completed this exercise │\n└────────────────────────────────────────────┘</span>\n</pre>"
     },
     "metadata": {},
     "execution_count": 15
    }
   ],
   "source": [
    "# Exercise 5\n",
    "\n",
    "for k in range(32, 128):\n",
    "    print(chr(k), end='')\n",
    "    if k % 32 == 31:\n",
    "        print()"
   ]
  }
 ],
 "metadata": {
  "kernelspec": {
   "display_name": "Python 3",
   "language": "python",
   "name": "python3"
  },
  "language_info": {
   "codemirror_mode": {
    "name": "ipython",
    "version": 3
   },
   "file_extension": ".py",
   "mimetype": "text/x-python",
   "name": "python",
   "nbconvert_exporter": "python",
   "pygments_lexer": "ipython3",
   "version": "3.7.3-final"
  }
 },
 "nbformat": 4,
 "nbformat_minor": 4
}